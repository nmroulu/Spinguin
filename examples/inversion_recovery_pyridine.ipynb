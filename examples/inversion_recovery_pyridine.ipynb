{
 "cells": [
  {
   "cell_type": "markdown",
   "metadata": {},
   "source": [
    "## Inversion Recovery Example\n",
    "\n",
    "In this example, we will perform an inversion-recovery experiment on a Pyridine molecule. This serves as an excellent demonstration of the functionality provided by the Spinguin package.\n",
    "\n",
    "- **Molecule and Spins**: The simulation incorporates all NMR-active spins of the Pyridine molecule, including:\n",
    "    - All 5 protons.\n",
    "    - The quadrupolar nitrogen-14 nucleus.\n",
    "\n",
    "- **Performance Optimization**: The computational performance is enhanced by utilizing the restricted Liouville space.\n",
    "\n",
    "- **Interactions Included**:\n",
    "    - **Coherent Interactions**:\n",
    "        - Zeeman interaction.\n",
    "        - Chemical shift.\n",
    "        - Scalar $J$-coupling.\n",
    "    - **Incoherent Interactions**:\n",
    "        - Dipolar coupling.\n",
    "        - Chemical shift anisotropy.\n",
    "        - Quadrupolar coupling.\n",
    "        - Scalar relaxation of the second kind.\n",
    "\n",
    "This example provides a comprehensive overview of how to simulate NMR experiments using Spinguin."
   ]
  },
  {
   "cell_type": "markdown",
   "metadata": {},
   "source": [
    "### Imports\n",
    "\n",
    "To begin, we import all the necessary modules.\n",
    "\n",
    "- **NumPy**: Used for creating arrays required for input parameters and storing results.\n",
    "- **Matplotlib**: Utilized for plotting the simulation results.\n",
    "- **Spinguin**: Provides specialized functionality for simulating NMR experiments."
   ]
  },
  {
   "cell_type": "code",
   "execution_count": null,
   "metadata": {},
   "outputs": [],
   "source": [
    "# Import necessary modules:\n",
    "import numpy as np\n",
    "import matplotlib.pyplot as plt\n",
    "from spinguin import SpinSystem, hamiltonian, relaxation, liouvillian, equilibrium_state, measure, propagator, pulse, transform_to_truncated_basis, truncate_basis_by_coherence"
   ]
  },
  {
   "cell_type": "markdown",
   "metadata": {},
   "source": [
    "### Simulation Parameters\n",
    "\n",
    "The following simulation parameters are defined:\n",
    "\n",
    "- **Magnetic Field (T)**: The strength of the static magnetic field $B_0$.\n",
    "- **Rotational Correlation Time (s)**: The characteristic time for molecular tumbling, affecting relaxation processes.\n",
    "- **Temperature (K)**: The temperature at which the simulation is conducted.\n",
    "- **Time Step (s)**: The interval between successive time points in the simulation.\n",
    "- **Number of Time Steps**: The total number of time steps for the simulation."
   ]
  },
  {
   "cell_type": "code",
   "execution_count": null,
   "metadata": {},
   "outputs": [],
   "source": [
    "# Define simulation parameters:\n",
    "B0 = 1  # 1 Tesla\n",
    "tau_c = 10e-12  # 10 picoseconds\n",
    "T = 295  # Kelvin\n",
    "dt = 2e-3  # 2 milliseconds\n",
    "N_steps = 50000"
   ]
  },
  {
   "cell_type": "markdown",
   "metadata": {},
   "source": [
    "### Define the Spin System\n",
    "\n",
    "To define the spin system, we need to specify the following parameters:\n",
    "\n",
    "- **Isotopes**: The types of nuclei in the system.\n",
    "- **Chemical Shifts (ppm)**: The chemical shifts for each nucleus.\n",
    "- **J Couplings (Hz)**: The $J$-coupling constants between nuclei.\n",
    "- **XYZ Coordinates (Å)**: The spatial positions of the nuclei in Cartesian coordinates.\n",
    "- **Shielding Tensors (ppm)**: The nuclear shielding tensors for each nucleus.\n",
    "- **EFG Tensors (a.u.)**: The electric field gradient tensors for quadrupolar nuclei.\n",
    "\n",
    "These parameters are defined as NumPy arrays and provided as input when creating the spin system object. The maximum spin order is limited to 3 to enhance computational performance."
   ]
  },
  {
   "cell_type": "code",
   "execution_count": null,
   "metadata": {},
   "outputs": [],
   "source": [
    "# Define the spin system parameters:\n",
    "isotopes = np.array(['1H', '1H', '1H', '1H', '1H', '14N'])\n",
    "chemical_shifts = np.array([8.56, 8.56, 7.47, 7.47, 7.88, 95.94])\n",
    "\n",
    "J_couplings = np.array([\n",
    "    [ 0,     0,      0,      0,      0,      0],\n",
    "    [-1.04,  0,      0,      0,      0,      0],\n",
    "    [ 4.85,  1.05,   0,      0,      0,      0],\n",
    "    [ 1.05,  4.85,   0.71,   0,      0,      0],\n",
    "    [ 1.24,  1.24,   7.55,   7.55,   0,      0],\n",
    "    [ 8.16,  8.16,   0.87,   0.87,  -0.19,   0]\n",
    "])\n",
    "\n",
    "xyz = np.array([\n",
    "    [ 2.0495335,  0.0000000, -1.4916842],\n",
    "    [-2.0495335,  0.0000000, -1.4916842],\n",
    "    [ 2.1458878,  0.0000000,  0.9846086],\n",
    "    [-2.1458878,  0.0000000,  0.9846086],\n",
    "    [ 0.0000000,  0.0000000,  2.2681296],\n",
    "    [ 0.0000000,  0.0000000, -1.5987077]\n",
    "])\n",
    "\n",
    "shielding = np.zeros((6, 3, 3))\n",
    "shielding[5] = np.array([\n",
    "    [-406.20,  0.00,    0.00],\n",
    "    [   0.00, 299.44,   0.00],\n",
    "    [   0.00,   0.00, -181.07]\n",
    "])\n",
    "\n",
    "efg = np.zeros((6, 3, 3))\n",
    "efg[5] = np.array([\n",
    "    [ 0.3069,  0.0000,  0.0000],\n",
    "    [ 0.0000,  0.7969,  0.0000],\n",
    "    [ 0.0000,  0.0000, -1.1037]\n",
    "])\n",
    "\n",
    "# Create the spin system object with the defined parameters.\n",
    "# The maximum spin order is limited to 3 to enhance computational performance.\n",
    "spin_system = SpinSystem(\n",
    "    isotopes, \n",
    "    chemical_shifts, \n",
    "    J_couplings, \n",
    "    xyz, \n",
    "    shielding, \n",
    "    efg, \n",
    "    max_spin_order=3\n",
    ")"
   ]
  },
  {
   "cell_type": "markdown",
   "metadata": {},
   "source": [
    "### Calculate Hamiltonian, Relaxation Superoperator, and the total Liouvillian\n",
    "\n",
    "To perform the time evolution of the spin system under the NMR interactions described by the Liouvillian, we need to calculate the following:\n",
    "\n",
    "- **Hamiltonian**: Represents the coherent interactions in the system.\n",
    "- **Relaxation Superoperator**: Accounts for the incoherent interactions and the resulting relaxation processes.\n",
    "\n",
    "After calculating these, the total Liouvillian is assembled by combining the Hamiltonian and relaxation superoperator.\n",
    "\n",
    "Other considerations:\n",
    "- We include the scalar relaxation of the second kind for completeness, even though its effect at a magnetic field strength of 1 T is negligible.\n",
    "- The relaxation superoperator is thermalized automatically when temperature is given as an input. This ensures that the spin system is driven back towards thermal equilibrium."
   ]
  },
  {
   "cell_type": "code",
   "execution_count": null,
   "metadata": {},
   "outputs": [],
   "source": [
    "# Calculate the Hamiltonian for the spin system.\n",
    "H = hamiltonian(spin_system, B0)\n",
    "\n",
    "# Calculate the relaxation superoperator for the spin system.\n",
    "R = relaxation(spin_system, H, B0, tau_c, T, include_sr2k=True)\n",
    "\n",
    "# Calculate the Liouvillian\n",
    "L = liouvillian(H, R)"
   ]
  },
  {
   "cell_type": "markdown",
   "metadata": {},
   "source": [
    "### Thermal Equilibrium\n",
    "\n",
    "To perform an inversion recovery experiment, we need the thermal equilibrium state.\n",
    "\n",
    "- The thermal equilibrium state represents the natural distribution of spin populations in the presence of an external magnetic field at a given temperature.\n",
    "- We create a state vector corresponding to this thermal equilibrium, which serves as the starting point for the simulation."
   ]
  },
  {
   "cell_type": "code",
   "execution_count": null,
   "metadata": {},
   "outputs": [],
   "source": [
    "# Initialize the state vector to thermal equilibrium.\n",
    "# TODO: This double Hamiltonian construction is not necessary.\n",
    "rho = equilibrium_state(spin_system, T, B0)"
   ]
  },
  {
   "cell_type": "markdown",
   "metadata": {},
   "source": [
    "### Apply 180-Degree Pulse\n",
    "\n",
    "The inversion-recovery experiment begins with a 180-degree pulse.\n",
    "\n",
    "- The 180-degree pulse is applied along the $x$-axis to each proton (spins with indices 0 to 4).\n",
    "- This pulse is essentially a rotation operator that inverts the magnetization of the selected spins.\n",
    "- The pulse is applied by multiplying the state vector with the rotation operator."
   ]
  },
  {
   "cell_type": "code",
   "execution_count": null,
   "metadata": {},
   "outputs": [],
   "source": [
    "# Apply a 180-degree pulse along the x-axis to the protons (spins with indices 0 to 4).\n",
    "pul_180 = pulse(spin_system, \"I(x,0) + I(x,1) + I(x,2) + I(x,3) + I(x,4)\", angle=180)\n",
    "\n",
    "# Update the state vector by applying the 180-degree pulse.\n",
    "rho = pul_180 @ rho"
   ]
  },
  {
   "cell_type": "code",
   "execution_count": null,
   "metadata": {},
   "outputs": [],
   "source": [
    "# TODO: I do not get the last point below."
   ]
  },
  {
   "cell_type": "markdown",
   "metadata": {},
   "source": [
    "### Change to Zero-Quantum Basis (Optional)\n",
    "\n",
    "This step is optional but can significantly reduce computational cost by decreasing the dimensions of the matrices\n",
    "\n",
    "- **State After Initial Pulse**: After the initial pulse, the state contains only zero-quantum terms. \n",
    "- **Evolution Under Liouvillian**: The evolution under the Liouvillian does not cause transitions that result in different coherence orders. \n",
    "- **Accuracy**: Restricting the basis to zero-quantum terms does not compromise accuracy in this case.\n",
    "- **Order of Operations**: The conversion to the zero-quantum basis must be performed after the initial pulse. This is because the pulse along the $x$-axis is a mixture of zero- and double-quantum coherences.\n",
    "\n",
    "Steps:\n",
    "1. Apply the zero-quantum filter to the spin system.\n",
    "2. Convert the Liouvillian and the state vector into the zero-quantum basis."
   ]
  },
  {
   "cell_type": "code",
   "execution_count": null,
   "metadata": {},
   "outputs": [],
   "source": [
    "# Generate the zero-quantum (ZQ) basis map for the spin system.\n",
    "# This map identifies the zero-quantum terms in the system.\n",
    "ZQ_map = truncate_basis_by_coherence(spin_system, [0])\n",
    "\n",
    "# Filter the Hamiltonian, relaxation superoperator and state vector to retain only the zero-quantum terms.\n",
    "L, rho = transform_to_truncated_basis(ZQ_map, L, rho)"
   ]
  },
  {
   "cell_type": "markdown",
   "metadata": {},
   "source": [
    "### Construct the Time Propagator\n",
    "\n",
    "The time propagator is a crucial component for simulating the time evolution of the spin system.\n",
    "\n",
    "- **Purpose**: The propagator is used to drive the spin system forward in time during the simulation.\n",
    "- **Construction**: It is constructed using the Liouvillian.\n",
    "- **Time Step**: The propagator is specific to the chosen time step, ensuring accurate simulation of the dynamics."
   ]
  },
  {
   "cell_type": "code",
   "execution_count": null,
   "metadata": {},
   "outputs": [],
   "source": [
    "# Construct the time propagator for the simulation.\n",
    "P = propagator(L, dt)"
   ]
  },
  {
   "cell_type": "markdown",
   "metadata": {},
   "source": [
    "### Initialize an Empty Array for Storing Results\n",
    "\n",
    "In an inversion-recovery experiment, we aim to measure the magnetizations of the spins at various time intervals.\n",
    "\n",
    "- **Experimental Approach**: In real experiments, this is achieved by applying a 90-degree pulse and recording the free induction decay (FID).\n",
    "- **Simulation Advantage**: In simulations, this step is unnecessary. We can directly observe the magnetization by \"measuring\" the expectation value of the $z$-magnetization of each spin at each time interval.\n",
    "- **Storage**: To store the magnetizations, we initialize a NumPy array. The array dimensions correspond to:\n",
    "    - The number of time steps in the simulation.\n",
    "    - The number of protons (spins) in the spin system."
   ]
  },
  {
   "cell_type": "code",
   "execution_count": null,
   "metadata": {},
   "outputs": [],
   "source": [
    "# Initialize an array to store the magnetizations of the spins.\n",
    "magnetizations = np.zeros((N_steps, 5), dtype=complex)"
   ]
  },
  {
   "cell_type": "markdown",
   "metadata": {},
   "source": [
    "### Perform the Time Evolution\n",
    "\n",
    "We are now ready to perform the time evolution of the spin system.\n",
    "\n",
    "- **Loop Over Time Steps**: Iterate through the total number of time steps defined for the simulation.\n",
    "- **Propagate the System**: At each time step, propagate the spin system forward in time using the time propagator.\n",
    "- **Measure Magnetization**: For each proton (spins with indices 0 to 4), measure the $z$-magnetization and store the results in the `magnetizations` array."
   ]
  },
  {
   "cell_type": "code",
   "execution_count": null,
   "metadata": {},
   "outputs": [],
   "source": [
    "# Perform the time evolution of the spin system.\n",
    "for step in range(N_steps):\n",
    "    # Propagate the state vector to the next time step.\n",
    "    rho = P @ rho\n",
    "\n",
    "    # Measure the z-magnetization for each proton and store it.\n",
    "    for idx in [0, 1, 2, 3, 4]:\n",
    "        magnetizations[step, idx] = measure(spin_system, rho, f\"I(z,{idx})\")"
   ]
  },
  {
   "cell_type": "markdown",
   "metadata": {},
   "source": [
    "### Plot the Results\n",
    "\n",
    "Congratulations! The simulation is complete. The results are stored in the `magnetizations` array. You can now:\n",
    "\n",
    "- Save the results as a CSV file for further analysis.\n",
    "- Perform additional analysis directly on the results.\n",
    "- Plot and visualize the results.\n",
    "\n",
    "In this example, we will plot and display the results."
   ]
  },
  {
   "cell_type": "code",
   "execution_count": null,
   "metadata": {},
   "outputs": [],
   "source": [
    "# Generate a time array for the x-axis of the plot.\n",
    "t = np.linspace(dt, N_steps * dt, N_steps)\n",
    "\n",
    "# Plot the magnetization of each proton (spins with indices 0 to 4) over time.\n",
    "for i in [0, 1, 2, 3, 4]:\n",
    "    plt.plot(t, np.real(magnetizations[:, i]), label=f\"Spin {i+1}\")\n",
    "\n",
    "# Add a legend to identify each spin's magnetization curve.\n",
    "plt.legend(loc=\"upper right\")\n",
    "\n",
    "# Label the x-axis and y-axis for clarity.\n",
    "plt.xlabel(\"Time (s)\")\n",
    "plt.ylabel(\"Magnetization\")\n",
    "\n",
    "# Add a title to describe the plot.\n",
    "plt.title(\"Inversion-Recovery of Pyridine\")\n",
    "\n",
    "# Adjust the layout to prevent overlapping of labels and elements.\n",
    "plt.tight_layout()\n",
    "\n",
    "# Display the plot.\n",
    "plt.show()\n",
    "\n",
    "# Clear the figure to avoid overlapping plots in subsequent cells.\n",
    "plt.clf()"
   ]
  }
 ],
 "metadata": {
  "kernelspec": {
   "display_name": "base",
   "language": "python",
   "name": "python3"
  },
  "language_info": {
   "codemirror_mode": {
    "name": "ipython",
    "version": 3
   },
   "file_extension": ".py",
   "mimetype": "text/x-python",
   "name": "python",
   "nbconvert_exporter": "python",
   "pygments_lexer": "ipython3",
   "version": "3.11.5"
  }
 },
 "nbformat": 4,
 "nbformat_minor": 2
}

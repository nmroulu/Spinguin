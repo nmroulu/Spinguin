{
 "cells": [
  {
   "cell_type": "markdown",
   "metadata": {},
   "source": [
    "## Inversion Recovery Example\n",
    "\n",
    "In this example, we will perform an inversion-recovery experiment on a Pyridine molecule. This serves as an excellent demonstration of the functionality provided by the Spinguin package.\n",
    "\n",
    "- **Molecule and Spins**: The simulation incorporates all NMR-active spins of the Pyridine molecule, including:\n",
    "    - All 5 protons.\n",
    "    - The quadrupolar nitrogen-14 nucleus.\n",
    "\n",
    "- **Performance Optimization**: The computational performance is enhanced by utilizing the restricted Liouville space.\n",
    "\n",
    "- **Interactions Included**:\n",
    "    - **Coherent Interactions**:\n",
    "        - Zeeman interaction.\n",
    "        - Chemical shift.\n",
    "        - Scalar $J$-coupling.\n",
    "    - **Incoherent Interactions**:\n",
    "        - Dipolar coupling.\n",
    "        - Chemical shift anisotropy.\n",
    "        - Quadrupolar coupling.\n",
    "        - Scalar relaxation of the second kind.\n",
    "\n",
    "This example provides a comprehensive overview of how to simulate NMR experiments using Spinguin."
   ]
  },
  {
   "cell_type": "markdown",
   "metadata": {},
   "source": [
    "### Imports\n",
    "\n",
    "To begin, we import all the necessary modules.\n",
    "\n",
    "- **NumPy**: Used for creating arrays required for input parameters and storing results.\n",
    "- **Matplotlib**: Utilized for plotting the simulation results.\n",
    "- **Spinguin**: Provides specialized functionality for simulating NMR experiments."
   ]
  },
  {
   "cell_type": "code",
   "execution_count": null,
   "metadata": {},
   "outputs": [],
   "source": [
    "# Import necessary modules:\n",
    "import numpy as np\n",
    "import matplotlib.pyplot as plt\n",
    "import spinguin as sg"
   ]
  },
  {
   "cell_type": "markdown",
   "metadata": {},
   "source": [
    "### Simulation Parameters\n",
    "\n",
    "The following experimental conditions are defined:\n",
    "\n",
    "- **Magnetic Field (T)**: The strength of the static magnetic field $B_0$.\n",
    "- **Temperature (K)**: The temperature at which the simulation is conducted.\n",
    "\n",
    "The following acquisition parameters are defined:\n",
    "- **Dwell Time (s)**: The interval between successive time points in the simulation.\n",
    "- **Number of Points**: The total number of time steps for the simulation.\n",
    "- **Isotope**: The isotope to be measured."
   ]
  },
  {
   "cell_type": "code",
   "execution_count": null,
   "metadata": {},
   "outputs": [],
   "source": [
    "# Define experimental conditions:\n",
    "sg.parameters.magnetic_field = 1\n",
    "sg.parameters.temperature = 295\n",
    "\n",
    "# Define acquisition parameters\n",
    "sg.parameters.dwell_time = 2e-3\n",
    "sg.parameters.npoints = 50000\n",
    "sg.parameters.isotope = \"1H\""
   ]
  },
  {
   "cell_type": "markdown",
   "metadata": {},
   "source": [
    "### Define the Spin System\n",
    "\n",
    "Next, we perform the following:\n",
    "\n",
    "- **Initialize Spin System**: We create a spin system that consists of 5 protons (1H) and 1 nitrogen (14N).\n",
    "- **Define Maximum Spin Order**: To speed up the calculations, the maximum spin order is restricted to include at most 3 spins.\n",
    "- **Build the Basis**: We build the Liouville space basis set for the spin system."
   ]
  },
  {
   "cell_type": "code",
   "execution_count": null,
   "metadata": {},
   "outputs": [],
   "source": [
    "# Define the spin system\n",
    "spin_system = sg.spin_system(['1H', '1H', '1H', '1H', '1H', '14N'])\n",
    "spin_system.basis.max_spin_order = 3\n",
    "spin_system.basis.build()"
   ]
  },
  {
   "cell_type": "markdown",
   "metadata": {},
   "source": [
    "### Define the Spin System Properties\n",
    "\n",
    "To define the spin system, we need to specify the following parameters:\n",
    "\n",
    "- **Chemical Shifts (ppm)**: The chemical shifts for each nucleus.\n",
    "- **J Couplings (Hz)**: The $J$-coupling constants between nuclei.\n",
    "- **XYZ Coordinates (Å)**: The spatial positions of the nuclei in Cartesian coordinates.\n",
    "- **Shielding Tensors (ppm)**: The nuclear shielding tensors for each nucleus.\n",
    "- **EFG Tensors (a.u.)**: The electric field gradient tensors for quadrupolar nuclei.\n",
    "\n",
    "These parameters are written as NumPy arrays and assigned to the spin system attributes."
   ]
  },
  {
   "cell_type": "code",
   "execution_count": null,
   "metadata": {},
   "outputs": [],
   "source": [
    "# Define the spin system parameters:\n",
    "spin_system.chemical_shifts = np.array([8.56, 8.56, 7.47, 7.47, 7.88, 95.94])\n",
    "\n",
    "spin_system.J_couplings = np.array([\n",
    "    [ 0,     0,      0,      0,      0,      0],\n",
    "    [-1.04,  0,      0,      0,      0,      0],\n",
    "    [ 4.85,  1.05,   0,      0,      0,      0],\n",
    "    [ 1.05,  4.85,   0.71,   0,      0,      0],\n",
    "    [ 1.24,  1.24,   7.55,   7.55,   0,      0],\n",
    "    [ 8.16,  8.16,   0.87,   0.87,  -0.19,   0]\n",
    "])\n",
    "\n",
    "spin_system.xyz = np.array([\n",
    "    [ 2.0495335,  0.0000000, -1.4916842],\n",
    "    [-2.0495335,  0.0000000, -1.4916842],\n",
    "    [ 2.1458878,  0.0000000,  0.9846086],\n",
    "    [-2.1458878,  0.0000000,  0.9846086],\n",
    "    [ 0.0000000,  0.0000000,  2.2681296],\n",
    "    [ 0.0000000,  0.0000000, -1.5987077]\n",
    "])\n",
    "\n",
    "spin_system.shielding = np.zeros((6, 3, 3))\n",
    "spin_system.shielding[5] = np.array([\n",
    "    [-406.20,  0.00,    0.00],\n",
    "    [   0.00, 299.44,   0.00],\n",
    "    [   0.00,   0.00, -181.07]\n",
    "])\n",
    "\n",
    "spin_system.efg = np.zeros((6, 3, 3))\n",
    "spin_system.efg[5] = np.array([\n",
    "    [ 0.3069,  0.0000,  0.0000],\n",
    "    [ 0.0000,  0.7969,  0.0000],\n",
    "    [ 0.0000,  0.0000, -1.1037]\n",
    "])"
   ]
  },
  {
   "cell_type": "markdown",
   "metadata": {},
   "source": [
    "### Specify the Relaxation Theory\n",
    "\n",
    "We will treat the relaxation using Redfield theory. The following parameters are set:\n",
    "\n",
    "- **Theory**: We specify that Redfield theory is used.\n",
    "- **SR2K**: We specify that scalar relaxation of the second kind is considered.\n",
    "- **Thermalization**: Thermalization of the relaxation superoperator (Levitt-di Bari) is enabled.\n",
    "- **Rotational Correlation Time (ps)**: The characteristic time for molecular tumbling, affecting relaxation processes."
   ]
  },
  {
   "cell_type": "code",
   "execution_count": null,
   "metadata": {},
   "outputs": [],
   "source": [
    "# Specify the Relaxation Theory\n",
    "spin_system.relaxation.theory = \"redfield\"\n",
    "spin_system.relaxation.tau_c = 10e-12\n",
    "spin_system.relaxation.thermalization = True\n",
    "spin_system.relaxation.sr2k = True"
   ]
  },
  {
   "cell_type": "markdown",
   "metadata": {},
   "source": [
    "### Perform the Inversion Recovery Experiment\n",
    "\n",
    "We obtain the evolution of the $z$-magnetization by performing the inversion-recovery experiment."
   ]
  },
  {
   "cell_type": "code",
   "execution_count": null,
   "metadata": {},
   "outputs": [],
   "source": [
    "magnetizations = sg.inversion_recovery(spin_system)"
   ]
  },
  {
   "cell_type": "markdown",
   "metadata": {},
   "source": [
    "### Plot the Results\n",
    "\n",
    "Congratulations! The simulation is complete. The results are stored in the `magnetizations` array. You can now:\n",
    "\n",
    "- Save the results as a CSV file for further analysis.\n",
    "- Perform additional analysis directly on the results.\n",
    "- Plot and visualize the results.\n",
    "\n",
    "In this example, we will plot and display the results."
   ]
  },
  {
   "cell_type": "code",
   "execution_count": null,
   "metadata": {},
   "outputs": [],
   "source": [
    "# Construct the time array\n",
    "time = np.linspace(0, (sg.parameters.npoints[0]-1)*sg.parameters.dwell_time[0], sg.parameters.npoints[0])\n",
    "\n",
    "# Plot the magnetization of each proton (spins with indices 0 to 4) over time.\n",
    "for mag in magnetizations:\n",
    "    plt.plot(time, np.real(mag), label=f\"1H\")\n",
    "\n",
    "# Add a legend to identify each spin's magnetization curve.\n",
    "plt.legend(loc=\"upper right\")\n",
    "\n",
    "# Label the x-axis and y-axis for clarity.\n",
    "plt.xlabel(\"Time (s)\")\n",
    "plt.ylabel(\"Magnetization\")\n",
    "\n",
    "# Add a title to describe the plot.\n",
    "plt.title(\"Inversion-Recovery of Pyridine\")\n",
    "\n",
    "# Adjust the layout to prevent overlapping of labels and elements.\n",
    "plt.tight_layout()\n",
    "\n",
    "# Display the plot.\n",
    "plt.show()\n",
    "\n",
    "# Clear the figure to avoid overlapping plots in subsequent cells.\n",
    "plt.clf()"
   ]
  }
 ],
 "metadata": {
  "kernelspec": {
   "display_name": "dev_environment",
   "language": "python",
   "name": "python3"
  },
  "language_info": {
   "codemirror_mode": {
    "name": "ipython",
    "version": 3
   },
   "file_extension": ".py",
   "mimetype": "text/x-python",
   "name": "python",
   "nbconvert_exporter": "python",
   "pygments_lexer": "ipython3",
   "version": "3.11.9"
  }
 },
 "nbformat": 4,
 "nbformat_minor": 2
}

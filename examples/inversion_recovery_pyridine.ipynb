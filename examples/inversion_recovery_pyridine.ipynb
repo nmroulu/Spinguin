{
 "cells": [
  {
   "cell_type": "markdown",
   "metadata": {},
   "source": [
    "## Inversion recovery example\n",
    "\n",
    "In this example, we will perform an inversion-recovery experiment on a Pyridine molecule, which is a great example showcasing the functionality of the Spinguin package. The simulation incorporates all NMR-active spins of the Pyridine molecule (all 5 protons and the quadrupolar nitrogen-14), and the performance is increased by utilizing the restricted Liouville space. The coherent interactions (Zeeman, isotropic shift, and $J$-coupling) as well as incoherent interactions (dipolar coupling, chemical shielding anisotropy, quadrupolar coupling, and scalar relaxation of the second kind) are included in the simulation."
   ]
  },
  {
   "cell_type": "markdown",
   "metadata": {},
   "source": [
    "### Imports\n",
    "\n",
    "The first step is to import all the necessary modules. NumPy arrays are required for the input parameters and for storing the results, Matplotlib is used for plotting, and some functionality is imported from the Spinguin package."
   ]
  },
  {
   "cell_type": "code",
   "execution_count": 38,
   "metadata": {},
   "outputs": [],
   "source": [
    "import numpy as np\n",
    "import matplotlib.pyplot as plt\n",
    "from spinguin.spin_system import SpinSystem\n",
    "from spinguin.hamiltonian import hamiltonian\n",
    "from spinguin.relaxation import relaxation, thermalize\n",
    "from spinguin.states import thermal_equilibrium, measure\n",
    "from spinguin.propagation import propagator, pulse\n",
    "from spinguin.basis import ZQ_basis, ZQ_filter"
   ]
  },
  {
   "cell_type": "markdown",
   "metadata": {},
   "source": [
    "### Simulation parameters\n",
    "\n",
    "We set the magnetic field (T), rotational correlation time (ps), temperature (K), time step (s) and the number of time steps."
   ]
  },
  {
   "cell_type": "code",
   "execution_count": 39,
   "metadata": {},
   "outputs": [],
   "source": [
    "field = 1\n",
    "tau_c = 10e-12\n",
    "temp = 295\n",
    "time_step = 2e-3\n",
    "nsteps = 50000"
   ]
  },
  {
   "cell_type": "markdown",
   "metadata": {},
   "source": [
    "### Define the spin system\n",
    "\n",
    "Next, we want to define the spin system. We assign the isotopes, chemical shifts (ppm), scalar couplings (Hz), XYZ coordinates (Å), shielding tensors (ppm), and EFG tensors (a.u.) as NumPy arrays. These are then given as an input when instantiating the spin system object. Maximum spin order is limited to 3 for improved performance."
   ]
  },
  {
   "cell_type": "code",
   "execution_count": 40,
   "metadata": {},
   "outputs": [],
   "source": [
    "isotopes = np.array(['1H', '1H', '1H', '1H', '1H', '14N'])\n",
    "chemical_shifts = np.array([8.56, 8.56, 7.47, 7.47, 7.88, 95.94])\n",
    "scalar_couplings = np.array([\\\n",
    "    [ 0,     0,      0,      0,      0,      0],\n",
    "    [-1.04,  0,      0,      0,      0,      0],\n",
    "    [ 4.85,  1.05,   0,      0,      0,      0],\n",
    "    [ 1.05,  4.85,   0.71,   0,      0,      0],\n",
    "    [ 1.24,  1.24,   7.55,   7.55,   0,      0],\n",
    "    [ 8.16,  8.16,   0.87,   0.87,  -0.19,   0]\n",
    "])\n",
    "xyz = np.array([\\\n",
    "    [ 2.0495335, 0.0000000, -1.4916842],\n",
    "    [-2.0495335, 0.0000000, -1.4916842],\n",
    "    [ 2.1458878, 0.0000000,  0.9846086],\n",
    "    [-2.1458878, 0.0000000,  0.9846086],\n",
    "    [ 0.0000000, 0.0000000,  2.2681296],\n",
    "    [ 0.0000000, 0.0000000, -1.5987077]\n",
    "])\n",
    "shielding = np.zeros((6, 3, 3))\n",
    "shielding[5] = np.array([\\\n",
    "    [-406.20, 0.00,   0.00],\n",
    "    [ 0.00,   299.44, 0.00],\n",
    "    [ 0.00,   0.00,  -181.07]\n",
    "])\n",
    "efg = np.zeros((6, 3, 3))\n",
    "efg[5] = np.array([\\\n",
    "    [0.3069, 0.0000,  0.0000],\n",
    "    [0.0000, 0.7969,  0.0000],\n",
    "    [0.0000, 0.0000, -1.1037]\n",
    "])\n",
    "spin_system = SpinSystem(isotopes, chemical_shifts, scalar_couplings, xyz, shielding, efg, max_spin_order=3)"
   ]
  },
  {
   "cell_type": "markdown",
   "metadata": {},
   "source": [
    "### Calculate Hamiltonian and relaxation superoperators\n",
    "\n",
    "Our goal is to perform the time evolution of the spin system under the NMR interactions described by the Liouvillian. Therefore, we want to calculate the Hamiltonian and relaxation superoperators. We choose to include the scalar relaxation of the second kind for completeness, even though its effect at the field of 1 T is insignificant."
   ]
  },
  {
   "cell_type": "code",
   "execution_count": 41,
   "metadata": {},
   "outputs": [
    {
     "name": "stdout",
     "output_type": "stream",
     "text": [
      "Starting to construct the Hamiltonian.\n",
      "Hamiltonian constructed.\n",
      "Elapsed time: 0.5059061050415039 seconds.\n",
      "Starting to construct the relaxation superoperator.\n",
      "Processing l:1, q:0\n",
      "Processing l:1, q:1\n",
      "Processing l:2, q:0\n",
      "DD: 1-0\n",
      "DD: 2-0\n",
      "DD: 2-1\n",
      "DD: 3-0\n",
      "DD: 3-1\n",
      "DD: 3-2\n",
      "DD: 4-0\n",
      "DD: 4-1\n",
      "DD: 4-2\n",
      "DD: 4-3\n",
      "DD: 5-0\n",
      "DD: 5-1\n",
      "DD: 5-2\n",
      "DD: 5-3\n",
      "DD: 5-4\n",
      "CSA: 5-None\n",
      "Q: 5-None\n",
      "Processing l:2, q:1\n",
      "DD: 1-0\n",
      "DD: 2-0\n",
      "DD: 2-1\n",
      "DD: 3-0\n",
      "DD: 3-1\n",
      "DD: 3-2\n",
      "DD: 4-0\n",
      "DD: 4-1\n",
      "DD: 4-2\n",
      "DD: 4-3\n",
      "DD: 5-0\n",
      "DD: 5-1\n",
      "DD: 5-2\n",
      "DD: 5-3\n",
      "DD: 5-4\n",
      "CSA: 5-None\n",
      "Q: 5-None\n",
      "Processing l:2, q:2\n",
      "DD: 1-0\n",
      "DD: 2-0\n",
      "DD: 2-1\n",
      "DD: 3-0\n",
      "DD: 3-1\n",
      "DD: 3-2\n",
      "DD: 4-0\n",
      "DD: 4-1\n",
      "DD: 4-2\n",
      "DD: 4-3\n",
      "DD: 5-0\n",
      "DD: 5-1\n",
      "DD: 5-2\n",
      "DD: 5-3\n",
      "DD: 5-4\n",
      "CSA: 5-None\n",
      "Q: 5-None\n",
      "Processing scalar relaxation of the second kind.\n",
      "Relaxation superoperator constructed.\n",
      "Elapsed time: 3.1919167041778564 seconds.\n"
     ]
    }
   ],
   "source": [
    "H = hamiltonian(spin_system, field)\n",
    "R = relaxation(spin_system, H, field, tau_c, include_sr2k=True)"
   ]
  },
  {
   "cell_type": "markdown",
   "metadata": {},
   "source": [
    "### Thermal equilibrium\n",
    "\n",
    "Initial condition in an inversion-recovery experiment is the thermal equilibrium. We create a state vector corresponding to the thermal equilibrium."
   ]
  },
  {
   "cell_type": "code",
   "execution_count": 42,
   "metadata": {},
   "outputs": [],
   "source": [
    "rho = thermal_equilibrium(spin_system, temp, field)"
   ]
  },
  {
   "cell_type": "markdown",
   "metadata": {},
   "source": [
    "### Apply 180-degree pulse\n",
    "\n",
    "Inversion recovery begins with an 180-degree pulse. We first create the pulse, which is essentially a time propagator, which is applied by multiplying to the state vector. The pulse is given along the $x$-axis to each proton (spins with indices from 0 to 4)."
   ]
  },
  {
   "cell_type": "code",
   "execution_count": 43,
   "metadata": {},
   "outputs": [],
   "source": [
    "pul_180 = pulse(spin_system, 'I_x', [0, 1, 2, 3, 4], angle=180)\n",
    "rho = pul_180 @ rho"
   ]
  },
  {
   "cell_type": "markdown",
   "metadata": {},
   "source": [
    "### Change to zero-quantum basis (optional)\n",
    "\n",
    "This step is optional, but it will decrease the computational cost, as the dimensions of the matrices become smaller. We know that the state after the the initial pulse contains only zero-quantum terms. In this case, the evolution under the Liouvillian will not cause any transitions that would result in different coherence orders. Therefore, we may restrict ourselves into a basis set that only contains the zero-quantum terms without sacrificing accuracy. Note that the above step must be performed before the conversion to zero-quantum basis, as the pulse along $x$-axis is a mixture of zero- and double-quantum coherence.\n",
    "\n",
    "We first apply the zero-quantum basis to our spin system, and subsequently convert the superoperators and the state vector into zero-quantum basis."
   ]
  },
  {
   "cell_type": "code",
   "execution_count": 44,
   "metadata": {},
   "outputs": [
    {
     "name": "stdout",
     "output_type": "stream",
     "text": [
      "Constructing the zero-quantum basis.\n",
      "Zero-quantum basis created.\n",
      "Elapsed time: 0.0 seconds.\n",
      "Applying zero-quantum coherence filter.\n",
      "Zero-quantum coherence filter applied.\n",
      "Elapsed time: 0.0 seconds.\n",
      "Applying zero-quantum coherence filter.\n",
      "Zero-quantum coherence filter applied.\n",
      "Elapsed time: 0.0 seconds.\n",
      "Applying zero-quantum coherence filter.\n",
      "Zero-quantum coherence filter applied.\n",
      "Elapsed time: 0.0 seconds.\n"
     ]
    }
   ],
   "source": [
    "ZQ_basis(spin_system)\n",
    "H = ZQ_filter(spin_system, H)\n",
    "R = ZQ_filter(spin_system, R)\n",
    "rho = ZQ_filter(spin_system, rho)"
   ]
  },
  {
   "cell_type": "markdown",
   "metadata": {},
   "source": [
    "### Thermalize the relaxation superoperator\n",
    "\n",
    "When the relaxation superoperator is created, it is not thermalized. This means that the relaxation superoperator drives the spin system towards the unit state, which is not what we want in an inversion recovery experiment. We want the relaxation superoperator to drive the spin system back to equilibrium once the state has been altered by the 180-degree pulse. Therefore, we must apply thermalization to the relaxation superoperator."
   ]
  },
  {
   "cell_type": "code",
   "execution_count": 45,
   "metadata": {},
   "outputs": [],
   "source": [
    "R = thermalize(spin_system, R, field, temp)"
   ]
  },
  {
   "cell_type": "markdown",
   "metadata": {},
   "source": [
    "### Construct the time propagator\n",
    "\n",
    "We are now ready to construct the time propagator which will be used to drive the spin system forward in time."
   ]
  },
  {
   "cell_type": "code",
   "execution_count": 46,
   "metadata": {},
   "outputs": [
    {
     "name": "stdout",
     "output_type": "stream",
     "text": [
      "Building the time propagator.\n",
      "Propagator density: 0.9442029638304581\n",
      "Density exceeds threshold. Converting to NumPy.\n",
      "Propagator constructed.\n",
      "Elapsed time: 0.5075874328613281 seconds.\n"
     ]
    }
   ],
   "source": [
    "P = propagator(time_step, H, R)"
   ]
  },
  {
   "cell_type": "markdown",
   "metadata": {},
   "source": [
    "### Initialize an empty array for storing the results\n",
    "\n",
    "In inversion recovery, we are interested in measuring the magnetizations of the spins at various time intervals. In experiments, this is done by applying a 90-degree pulse and recording the free induction decay. In simulations, this is not required, as we can directly observe the magnetization by \"measuring\" the expectation value of the $z$-magnetization of each spin at each time interval. To store the magnetizations, we first initialize a NumPy array with the dimensions corresponding to the number of time steps and the number of protons in our spin system."
   ]
  },
  {
   "cell_type": "code",
   "execution_count": 47,
   "metadata": {},
   "outputs": [],
   "source": [
    "magnetizations = np.zeros((nsteps, 5), dtype=complex)"
   ]
  },
  {
   "cell_type": "markdown",
   "metadata": {},
   "source": [
    "### Perform the time evolution\n",
    "\n",
    "Finally, we are ready to perform the time evolution. We loop over the number of time steps, and, within each time step, we propagate the system forward in time and perform the measurement for every proton (again, protons have the indices from 0 to 4 in our system)."
   ]
  },
  {
   "cell_type": "code",
   "execution_count": 48,
   "metadata": {},
   "outputs": [],
   "source": [
    "for step in range(nsteps):\n",
    "    rho = P @ rho\n",
    "\n",
    "    for idx in [0, 1, 2, 3, 4]:\n",
    "        magnetizations[step, idx] = measure(spin_system, rho, 'I_z', idx)"
   ]
  },
  {
   "cell_type": "markdown",
   "metadata": {},
   "source": [
    "### Plot the results\n",
    "\n",
    "Congratulations! The simulation is now completed. The results have been stored in the magnetizations array. One can now save the results as CSV, perform additional analysis on the results immediately, or plot the results. We will plot and show the results."
   ]
  },
  {
   "cell_type": "code",
   "execution_count": 49,
   "metadata": {},
   "outputs": [
    {
     "data": {
      "image/png": "[encoded data removed]",
      "text/plain": [
       "<Figure size 640x480 with 1 Axes>"
      ]
     },
     "metadata": {},
     "output_type": "display_data"
    },
    {
     "data": {
      "text/plain": [
       "<Figure size 640x480 with 0 Axes>"
      ]
     },
     "metadata": {},
     "output_type": "display_data"
    }
   ],
   "source": [
    "t = np.linspace(time_step, nsteps*time_step, nsteps)\n",
    "for i in [0, 1, 2, 3, 4]:\n",
    "    plt.plot(t, np.real(magnetizations[:,i]), label=f\"Spin {i+1}\")\n",
    "plt.legend(loc=\"upper right\")\n",
    "plt.xlabel(\"Time (s)\")\n",
    "plt.ylabel(\"Magnetization\")\n",
    "plt.title(\"Inversion-recovery of Pyridine\")\n",
    "plt.tight_layout()\n",
    "plt.show()\n",
    "plt.clf()"
   ]
  }
 ],
 "metadata": {
  "kernelspec": {
   "display_name": "dev_environment",
   "language": "python",
   "name": "python3"
  },
  "language_info": {
   "codemirror_mode": {
    "name": "ipython",
    "version": 3
   },
   "file_extension": ".py",
   "mimetype": "text/x-python",
   "name": "python",
   "nbconvert_exporter": "python",
   "pygments_lexer": "ipython3",
   "version": "3.11.9"
  }
 },
 "nbformat": 4,
 "nbformat_minor": 2
}

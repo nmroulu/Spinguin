{
 "cells": [
  {
   "cell_type": "markdown",
   "metadata": {},
   "source": [
    "## Signal amplification by reversible exchange - pyridine: three spins\n",
    "\n",
    "This is a simple example of a SABRE simulation of pyridine. The spin system consists of the hydride protons and one ligand proton. Chemical exchange and relaxation are not simulated. The simulation is performed near the energy level anticrossing field. Therefore, we find a coherent oscillation between the quantum states. This example takes a few seconds to run on a laptop with 11th generation i5 processor."
   ]
  },
  {
   "cell_type": "markdown",
   "metadata": {},
   "source": [
    "### Imports\n",
    "\n",
    "We import NumPy, which is used for the arrays, and Matplotlib, which is used for plotting. The rest of the functionality comes from Spinguin."
   ]
  },
  {
   "cell_type": "code",
   "execution_count": null,
   "metadata": {},
   "outputs": [],
   "source": [
    "import numpy as np\n",
    "import matplotlib.pyplot as plt\n",
    "from spinguin.spin_system import SpinSystem\n",
    "from spinguin.hamiltonian import hamiltonian\n",
    "from spinguin.propagation import propagator\n",
    "from spinguin.states import singlet, measure"
   ]
  },
  {
   "cell_type": "markdown",
   "metadata": {},
   "source": [
    "### Simulation parameters\n",
    "\n",
    "Next, we assign the simulation parameters. We set the magnetic field to 5.3 mT, use 1 ms time step and set the number of time steps to 1000, for a total simulation time of 1 s."
   ]
  },
  {
   "cell_type": "code",
   "execution_count": null,
   "metadata": {},
   "outputs": [],
   "source": [
    "magnetic_field = 5.3e-3\n",
    "time_step = 1e-3\n",
    "nsteps = 1000"
   ]
  },
  {
   "cell_type": "markdown",
   "metadata": {},
   "source": [
    "### Define the spin system\n",
    "\n",
    "We must define the spin system, for which the simulations are going to be performed. We assign isotopes, chemical shifts (in ppm) and scalar couplings (in Hz) as NumPy arrays. Rest of the possible parameters, such as molecular coordinates, shielding tensors, etc. are not defined, as the simulation does not involve relaxation. Once the desired parameters are defined, they are passed to the spin system constructor."
   ]
  },
  {
   "cell_type": "code",
   "execution_count": null,
   "metadata": {},
   "outputs": [],
   "source": [
    "isotopes = np.array(['1H', '1H', '1H'])\n",
    "chemical_shifts = np.array([-22.7, -22.7, 8.34])\n",
    "scalar_couplings = np.array([\\\n",
    "    [ 0,     0,      0],\n",
    "    [-6.53,  0,      0],\n",
    "    [ 0.00,  1.66,   0]\n",
    "])\n",
    "spin_system = SpinSystem(isotopes, chemical_shifts, scalar_couplings)"
   ]
  },
  {
   "cell_type": "markdown",
   "metadata": {},
   "source": [
    "## Calculate the Hamiltonian and the time propagator\n",
    "\n",
    "Now the Hamiltonian can be calculated for the spin system. In addition, the magnetic field is passed as a parameter for the Hamiltonian function. This Hamiltonian, combined with the time step, is then used for calculating the time propagator."
   ]
  },
  {
   "cell_type": "code",
   "execution_count": null,
   "metadata": {},
   "outputs": [],
   "source": [
    "H = hamiltonian(spin_system, magnetic_field)\n",
    "P = propagator(time_step, H)"
   ]
  },
  {
   "cell_type": "markdown",
   "metadata": {},
   "source": [
    "### Assign the initial state\n",
    "\n",
    "Initial state in this simulation is a singlet state for the hydride spins and thermal equilibrium for the substrate spin. It is assumed that the magnetization in thermal equilibrium is negligible."
   ]
  },
  {
   "cell_type": "code",
   "execution_count": null,
   "metadata": {},
   "outputs": [],
   "source": [
    "rho = singlet(spin_system, 0, 1)"
   ]
  },
  {
   "cell_type": "markdown",
   "metadata": {},
   "source": [
    "### Create an empty array for storing the magnetizations\n",
    "\n",
    "In the simulation, we are going to be performing 1000 time steps after each we will calculate the magnetization of each spin. Hence, we must create an empty array for storing the magnetizations during the time evolution."
   ]
  },
  {
   "cell_type": "code",
   "execution_count": null,
   "metadata": {},
   "outputs": [],
   "source": [
    "magnetizations = np.empty((nsteps, spin_system.size), dtype=complex)"
   ]
  },
  {
   "cell_type": "markdown",
   "metadata": {},
   "source": [
    "### Perform the time evolution\n",
    "\n",
    "Next, we will loop over the number of steps, and, during each step, we propagate the system forward in time and calculate the magnetization for each spin, which are saved to the previously created array."
   ]
  },
  {
   "cell_type": "code",
   "execution_count": null,
   "metadata": {},
   "outputs": [],
   "source": [
    "for step in range(nsteps):\n",
    "    rho = P @ rho\n",
    "    for i in range(isotopes.size):\n",
    "        magnetizations[step, i] = measure(spin_system, rho, 'I_z', i)"
   ]
  },
  {
   "cell_type": "markdown",
   "metadata": {},
   "source": [
    "### Plot the magnetizations and show the result\n",
    "\n",
    "Finally, we will calculate the time axis, and plot the magnetizations of each spin as a function of time. We observe that the substrate spin obtains near full magnetization after approximately 0.5 s."
   ]
  },
  {
   "cell_type": "code",
   "execution_count": null,
   "metadata": {},
   "outputs": [],
   "source": [
    "t = np.linspace(time_step, nsteps*time_step, nsteps)\n",
    "for i in range(isotopes.size):\n",
    "    plt.plot(t, np.real(magnetizations[:,i]), label=f\"Spin {i+1}\")\n",
    "plt.legend(loc=\"upper right\")\n",
    "plt.xlabel(\"Time (s)\")\n",
    "plt.ylabel(\"Magnetization\")\n",
    "plt.title(\"SABRE-hyperpolarization of Pyridine\")\n",
    "plt.tight_layout()\n",
    "plt.show()\n",
    "plt.clf()"
   ]
  }
 ],
 "metadata": {
  "kernelspec": {
   "display_name": "dev_environment",
   "language": "python",
   "name": "python3"
  },
  "language_info": {
   "codemirror_mode": {
    "name": "ipython",
    "version": 3
   },
   "file_extension": ".py",
   "mimetype": "text/x-python",
   "name": "python",
   "nbconvert_exporter": "python",
   "pygments_lexer": "ipython3",
   "version": "3.11.9"
  }
 },
 "nbformat": 4,
 "nbformat_minor": 2
}

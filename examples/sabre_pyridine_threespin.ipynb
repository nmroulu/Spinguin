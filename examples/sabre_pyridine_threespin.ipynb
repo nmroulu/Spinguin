{
 "cells": [
  {
   "cell_type": "markdown",
   "metadata": {},
   "source": [
    "## Signal Amplification by Reversible Exchange (SABRE) - Pyridine: Three Spins\n",
    "\n",
    "This example demonstrates a simple SABRE simulation of pyridine. Key details of the simulation are as follows:\n",
    "\n",
    "- **Spin System**: The system consists of two hydride protons and one ligand proton.\n",
    "- **Simplifications**: Chemical exchange and relaxation effects are not included in this simulation.\n",
    "- **Simulation Conditions**: The simulation is performed near the energy level anticrossing field, leading to coherent oscillations between quantum states.\n",
    "- **Performance**: The example runs in a few seconds on a laptop with an 11th-generation i5 processor.\n",
    "\n",
    "This example provides an accessible introduction to SABRE simulations while focusing on the essential dynamics of the spin system."
   ]
  },
  {
   "cell_type": "markdown",
   "metadata": {},
   "source": [
    "### Imports\n",
    "\n",
    "- **NumPy**: Used for creating and manipulating arrays.\n",
    "- **Matplotlib**: Used for plotting data and visualizing results.\n",
    "- **Spinguin**: Provides the core functionality for simulating spin systems, including Hamiltonian calculations, propagators, and measurements."
   ]
  },
  {
   "cell_type": "code",
   "execution_count": 1,
   "metadata": {},
   "outputs": [],
   "source": [
    "# Import necessary libraries\n",
    "import numpy as np\n",
    "import matplotlib.pyplot as plt\n",
    "from spinguin import SpinSystem, hamiltonian, propagator, singlet, measure"
   ]
  },
  {
   "cell_type": "markdown",
   "metadata": {},
   "source": [
    "### Simulation Parameters\n",
    "\n",
    "The following simulation parameters are defined:\n",
    "\n",
    "- **Magnetic Field**: Set to 5.3 mT.\n",
    "- **Time Step**: Set to 1 ms.\n",
    "- **Number of Time Steps**: Set to 1000, resulting in a total simulation time of 1 second."
   ]
  },
  {
   "cell_type": "code",
   "execution_count": 2,
   "metadata": {},
   "outputs": [],
   "source": [
    "# Define simulation parameters\n",
    "B0 = 5.3e-3     # Magnetic field strength in Tesla (5.3 mT)\n",
    "dt = 1e-3       # Time step for the simulation in seconds (1 ms)\n",
    "N_steps = 1000  # Number of time steps (total simulation time = 1 second)"
   ]
  },
  {
   "cell_type": "markdown",
   "metadata": {},
   "source": [
    "### Define the Spin System\n",
    "\n",
    "To perform the simulations, we need to define the spin system.\n",
    "\n",
    "- **Isotopes**: The types of nuclei in the spin system.\n",
    "- **Chemical Shifts**: Specified in parts per million (ppm).\n",
    "- **Scalar Couplings**: Specified in Hertz (Hz).\n",
    "\n",
    "These parameters are defined as NumPy arrays. Additional parameters, such as molecular coordinates or shielding tensors, are not included since the simulation does not involve relaxation effects. Once the required parameters are defined, they are passed to the spin system constructor."
   ]
  },
  {
   "cell_type": "code",
   "execution_count": 3,
   "metadata": {},
   "outputs": [],
   "source": [
    "# Define the spin system parameters\n",
    "isotopes = np.array(['1H', '1H', '1H'])  # Three hydrogen nuclei\n",
    "chemical_shifts = np.array([-22.7, -22.7, 8.34])  # Chemical shifts for each nucleus\n",
    "J_couplings = np.array([\n",
    "    [ 0,     0,      0],    # Coupling matrix (Hz)\n",
    "    [-6.53,  0,      0],    # Coupling between nuclei\n",
    "    [ 0.00,  1.66,   0]\n",
    "])\n",
    "\n",
    "# Create the spin system using the defined parameters\n",
    "spin_system = SpinSystem(isotopes, chemical_shifts, J_couplings)"
   ]
  },
  {
   "cell_type": "markdown",
   "metadata": {},
   "source": [
    "## Calculate the Hamiltonian and the Time Propagator\n",
    "\n",
    "The following steps are performed in this section:\n",
    "\n",
    "- **Hamiltonian**: The Hamiltonian is calculated for the defined spin system. The magnetic field strength is passed as a parameter to the `hamiltonian` function.\n",
    "- **Time Propagator**: Using the Hamiltonian and the defined time step, the time propagator is computed. This propagator will be used to evolve the spin system over time."
   ]
  },
  {
   "cell_type": "code",
   "execution_count": null,
   "metadata": {},
   "outputs": [],
   "source": [
    "# Calculate the Hamiltonian for the spin system\n",
    "H = hamiltonian(spin_system, B0)\n",
    "\n",
    "# Calculate the time propagator\n",
    "P = propagator(dt, H)"
   ]
  },
  {
   "cell_type": "markdown",
   "metadata": {},
   "source": [
    "### Assign the Initial State\n",
    "\n",
    "The initial state for this simulation is defined as follows:\n",
    "\n",
    "- **Hydride Spins**: The hydride spins are initialized in a singlet state.\n",
    "- **Substrate Spin**: The substrate spin is assumed to be in thermal equilibrium, with negligible magnetization."
   ]
  },
  {
   "cell_type": "code",
   "execution_count": 5,
   "metadata": {},
   "outputs": [],
   "source": [
    "# Initialize the density matrix\n",
    "rho = singlet(spin_system, 0, 1)"
   ]
  },
  {
   "cell_type": "markdown",
   "metadata": {},
   "source": [
    "### Create an Empty Array for Storing Magnetizations\n",
    "\n",
    "To store the magnetizations during the simulation, we need to create an empty array.\n",
    "\n",
    "- The simulation involves 1000 time steps.\n",
    "- After each time step, the magnetization of each spin will be calculated.\n",
    "- The array will store the magnetizations for all spins at each time step."
   ]
  },
  {
   "cell_type": "code",
   "execution_count": 6,
   "metadata": {},
   "outputs": [],
   "source": [
    "# Create an empty array to store magnetizations\n",
    "magnetizations = np.empty((N_steps, spin_system.size), dtype=complex)"
   ]
  },
  {
   "cell_type": "markdown",
   "metadata": {},
   "source": [
    "### Perform the Time Evolution\n",
    "\n",
    "- Loop over the defined number of time steps.\n",
    "- Propagate the spin system forward in time during each step using the time propagator.\n",
    "- Calculate the magnetization for each spin at each time step.\n",
    "- Save the calculated magnetizations to the previously created array for later analysis."
   ]
  },
  {
   "cell_type": "code",
   "execution_count": 7,
   "metadata": {},
   "outputs": [],
   "source": [
    "# Perform the time evolution of the spin system\n",
    "for step in range(N_steps):\n",
    "    # Propagate the density matrix to the next time step\n",
    "    rho = P @ rho\n",
    "    \n",
    "    # Measure the magnetization of each spin and store it in the magnetizations array\n",
    "    for i in range(isotopes.size):\n",
    "        magnetizations[step, i] = measure(spin_system, rho, 'I_z', i)"
   ]
  },
  {
   "cell_type": "markdown",
   "metadata": {},
   "source": [
    "### Plot the Magnetizations and Visualize the Results\n",
    "\n",
    "- Calculate the time axis for the simulation.\n",
    "- Plot the magnetizations of each spin as a function of time.\n",
    "- Observe that the substrate spin achieves near full magnetization after approximately 0.5 seconds."
   ]
  },
  {
   "cell_type": "code",
   "execution_count": null,
   "metadata": {},
   "outputs": [],
   "source": [
    "# Create a time axis for the simulation\n",
    "t = np.linspace(dt, N_steps * dt, N_steps)\n",
    "\n",
    "# Plot the magnetizations for each spin as a function of time\n",
    "for i in range(isotopes.size):\n",
    "    # Plot the real part of the magnetization for spin i\n",
    "    plt.plot(t, np.real(magnetizations[:, i]), label=f\"Spin {i+1}\")\n",
    "\n",
    "# Add a legend to identify each spin\n",
    "plt.legend(loc=\"upper right\")\n",
    "\n",
    "# Add labels and title to the plot for clarity\n",
    "plt.xlabel(\"Time (s)\")  # Label for the x-axis (time in seconds)\n",
    "plt.ylabel(\"Magnetization\")  # Label for the y-axis (magnetization values)\n",
    "plt.title(\"SABRE-Hyperpolarization of Pyridine\")  # Title of the plot\n",
    "\n",
    "# Adjust layout to prevent overlapping elements and display the plot\n",
    "plt.tight_layout()\n",
    "plt.show()\n",
    "\n",
    "# Clear the figure to avoid overlapping plots in subsequent cells\n",
    "plt.clf()"
   ]
  }
 ],
 "metadata": {
  "kernelspec": {
   "display_name": "base",
   "language": "python",
   "name": "python3"
  },
  "language_info": {
   "codemirror_mode": {
    "name": "ipython",
    "version": 3
   },
   "file_extension": ".py",
   "mimetype": "text/x-python",
   "name": "python",
   "nbconvert_exporter": "python",
   "pygments_lexer": "ipython3",
   "version": "3.11.5"
  }
 },
 "nbformat": 4,
 "nbformat_minor": 2
}

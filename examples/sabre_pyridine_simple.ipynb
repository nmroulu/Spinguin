{
 "cells": [
  {
   "cell_type": "markdown",
   "metadata": {},
   "source": [
    "## Signal Amplification by Reversible Exchange (SABRE) - Pyridine: Seven Spins\n",
    "\n",
    "This example is similar to the `sabre_pyridine_threespin.ipynb` with the addition of several protons to the spin system. It demonstrates a simple SABRE simulation of pyridine. Key details of the simulation are as follows:\n",
    "\n",
    "- **Spin System**: The system consists of two hydride protons and all protons from one equatorial ligand.\n",
    "- **Simplifications**: Chemical exchange and relaxation effects are not included in this simulation. The basis set is truncated to include spin orders up to 4.\n",
    "- **Simulation Conditions**: The simulation is performed near the energy level anticrossing field, leading to coherent oscillations between quantum states.\n",
    "- **Performance**: The example runs in a minute on a laptop with an 11th-generation i5 processor.\n",
    "\n",
    "This example provides an accessible introduction to SABRE simulations while focusing on the essential dynamics of the spin system."
   ]
  },
  {
   "cell_type": "markdown",
   "metadata": {},
   "source": [
    "### Imports\n",
    "\n",
    "- **NumPy**: Used for creating and manipulating arrays.\n",
    "- **Matplotlib**: Used for plotting data and visualizing results.\n",
    "- **Spinguin**: Provides the core functionality for simulating spin systems, including Hamiltonian calculations, propagators, and measurements."
   ]
  },
  {
   "cell_type": "code",
   "execution_count": null,
   "metadata": {},
   "outputs": [],
   "source": [
    "# Import necessary libraries\n",
    "import numpy as np\n",
    "import matplotlib.pyplot as plt\n",
    "import spinguin as sg"
   ]
  },
  {
   "cell_type": "markdown",
   "metadata": {},
   "source": [
    "### Simulation Parameters\n",
    "\n",
    "The following simulation parameters are defined:\n",
    "\n",
    "- **Magnetic Field (T)**: This is a global parameter in the Spinguin package. It is set to 5.3 mT.\n",
    "- **Time Step (s)**: Set to 1 ms.\n",
    "- **Number of Time Steps**: Set to 1000, resulting in a total simulation time of 1 second."
   ]
  },
  {
   "cell_type": "code",
   "execution_count": null,
   "metadata": {},
   "outputs": [],
   "source": [
    "# Define global simulation parameters\n",
    "sg.parameters.magnetic_field = 5.3e-3\n",
    "\n",
    "# Define the evolution parameters\n",
    "dt = 1e-3\n",
    "N_steps = 1000"
   ]
  },
  {
   "cell_type": "markdown",
   "metadata": {},
   "source": [
    "### Define the Spin System\n",
    "\n",
    "To perform the simulations, we need to define the spin system and basis set.\n",
    "\n",
    "- **Spin System**: First, the spin system is initialized by defining the isotopes.\n",
    "- **Maximum Spin Order**: The simulations are performed in Liouville space using the spherical tensor basis set. The full basis set scales as $4^n$ with the number of spins $n$, making the use of the full basis set impractical for large systems. Hence, the basis set is truncated to include spin orders up to 4.\n",
    "- **Build the Basis Set**: Finally, the basis set is built using the `build()` method."
   ]
  },
  {
   "cell_type": "code",
   "execution_count": null,
   "metadata": {},
   "outputs": [],
   "source": [
    "# Define the spin system and basis set\n",
    "spin_system = sg.SpinSystem(['1H', '1H', '1H', '1H', '1H', '1H', '1H'])\n",
    "spin_system.basis.max_spin_order = 4\n",
    "spin_system.basis.build()"
   ]
  },
  {
   "cell_type": "markdown",
   "metadata": {},
   "source": [
    "### Define the NMR Interactions\n",
    "\n",
    "We simulate only the coherent spin dynamics, which involves the definition of the following NMR interactions:\n",
    "\n",
    "- **Chemical Shifts**: Specified in parts per million (ppm).\n",
    "- **Scalar Couplings**: Specified in Hertz (Hz).\n",
    "\n",
    "These parameters are set as attributes to the previously created `SpinSystem` object."
   ]
  },
  {
   "cell_type": "code",
   "execution_count": null,
   "metadata": {},
   "outputs": [],
   "source": [
    "# Define the NMR interactions\n",
    "spin_system.chemical_shifts = [-22.7, -22.7, 8.34, 8.34, 7.12, 7.12, 7.77]\n",
    "spin_system.J_couplings = [\n",
    "    [ 0,     0,      0,      0,      0,      0,      0],\n",
    "    [-6.53,  0,      0,      0,      0,      0,      0],\n",
    "    [ 0.00,  1.66,   0,      0,      0,      0,      0],\n",
    "    [ 1.40,  0.00,  -0.06,   0,      0,      0,      0],\n",
    "    [-0.09,\t 0.35,\t 6.03,\t 0.14,\t 0,      0,      0],\n",
    "    [ 0.38, -0.13,\t 0.09,\t 5.93,\t 0.06, \t 0,      0],\n",
    "    [ 0.01,\t 0.03,\t 1.12,\t-0.02,\t 7.75,  -0.01, \t 0]\n",
    "]"
   ]
  },
  {
   "cell_type": "markdown",
   "metadata": {},
   "source": [
    "## Calculate the Hamiltonian, Liouvillian, and the Time Propagator\n",
    "\n",
    "The following steps are performed in this section:\n",
    "\n",
    "- **Hamiltonian**: The Hamiltonian is calculated for the defined spin system.\n",
    "- **Liouvillian**: In the Spinguin package, the Liouvillian is defined as $L = -iH - R + K$. We use the inbuilt function to calculate the Liouvillian using the correct definition. $R$ and $K$ are not given, as the simulation involves only the coherent dynamics.\n",
    "- **Time Propagator**: Using the Liouvillian and the defined time step, the time propagator is computed. This propagator will be used to evolve the spin system over time."
   ]
  },
  {
   "cell_type": "code",
   "execution_count": null,
   "metadata": {},
   "outputs": [],
   "source": [
    "# Calculate the Hamiltonian, Liouvillian, and the Time Propagator for the spin system\n",
    "H = sg.hamiltonian(spin_system)\n",
    "L = sg.liouvillian(H)\n",
    "P = sg.propagator(L, dt)"
   ]
  },
  {
   "cell_type": "markdown",
   "metadata": {},
   "source": [
    "### Assign the Initial State\n",
    "\n",
    "The initial state for this simulation is defined as follows:\n",
    "\n",
    "- **Hydride Spins**: The hydride spins are initialized in a singlet state.\n",
    "- **Substrate Spin**: The substrate spin is assumed to be in \"thermal equilibrium\", i.e., in the unit state, as the magnetization is negligible at the small magnetic field."
   ]
  },
  {
   "cell_type": "code",
   "execution_count": null,
   "metadata": {},
   "outputs": [],
   "source": [
    "# Initialize the density matrix\n",
    "rho = sg.singlet_state(spin_system, 0, 1)"
   ]
  },
  {
   "cell_type": "markdown",
   "metadata": {},
   "source": [
    "### Create an Empty Array for Storing Magnetizations\n",
    "\n",
    "To store the magnetizations during the simulation, we need to create an empty array.\n",
    "\n",
    "- The simulation involves 1000 time steps.\n",
    "- After each time step, the magnetization of each spin will be calculated.\n",
    "- The array will store the magnetizations for all spins at each time step."
   ]
  },
  {
   "cell_type": "code",
   "execution_count": null,
   "metadata": {},
   "outputs": [],
   "source": [
    "# Create an empty array to store magnetizations\n",
    "magnetizations = np.empty((spin_system.nspins, N_steps), dtype=complex)"
   ]
  },
  {
   "cell_type": "markdown",
   "metadata": {},
   "source": [
    "### Perform the Time Evolution\n",
    "\n",
    "- Loop over the defined number of time steps.\n",
    "- Calculate the magnetization for each spin at each time step.\n",
    "- Propagate the spin system forward in time during each step using the time propagator.\n",
    "- Save the calculated magnetizations to the previously created array for later analysis."
   ]
  },
  {
   "cell_type": "code",
   "execution_count": null,
   "metadata": {},
   "outputs": [],
   "source": [
    "# Perform the time evolution of the spin system\n",
    "for step in range(N_steps):\n",
    "\n",
    "    # Measure the magnetization of each spin and store it in the magnetizations array\n",
    "    for spin in range(spin_system.nspins):\n",
    "        magnetizations[spin, step] = sg.measure(spin_system, rho, f\"I(z,{spin})\")\n",
    "\n",
    "    # Propagate the density matrix to the next time step\n",
    "    rho = P @ rho"
   ]
  },
  {
   "cell_type": "markdown",
   "metadata": {},
   "source": [
    "### Plot the Magnetizations and Visualize the Results\n",
    "\n",
    "- Calculate the time axis for the simulation.\n",
    "- Plot the magnetizations of each spin as a function of time.\n",
    "- Observe that the magnetizations start to oscillate coherently. The coherent dynamics are comparable to the three-spin example. However, due to the increased complexity of the spin system, there is no longer a specific level anticrossing field that would cause near perfect polarization transfer from the hydrides to the substrate protons. Instead, the coherent dynamics are more complicated and less polarization is observed for the substrate spins."
   ]
  },
  {
   "cell_type": "code",
   "execution_count": null,
   "metadata": {},
   "outputs": [],
   "source": [
    "# Create a time axis for the simulation\n",
    "t = sg.time_axis(N_steps, dt)\n",
    "\n",
    "# Plot the magnetizations for each spin as a function of time\n",
    "for spin in range(spin_system.nspins):\n",
    "    plt.plot(t, np.real(magnetizations[spin]), label=f\"Spin {spin+1}\")\n",
    "\n",
    "# Add a legend to identify each spin\n",
    "plt.legend(loc=\"upper right\")\n",
    "\n",
    "# Add labels and title to the plot for clarity\n",
    "plt.xlabel(\"Time (s)\")\n",
    "plt.ylabel(\"Magnetization\")\n",
    "plt.title(\"SABRE-Hyperpolarization of Pyridine\")\n",
    "\n",
    "# Adjust layout to prevent overlapping elements and display the plot\n",
    "plt.tight_layout()\n",
    "plt.show()\n",
    "\n",
    "# Clear the figure to avoid overlapping plots in subsequent cells\n",
    "plt.clf()"
   ]
  }
 ],
 "metadata": {
  "kernelspec": {
   "display_name": "dev_environment",
   "language": "python",
   "name": "python3"
  },
  "language_info": {
   "codemirror_mode": {
    "name": "ipython",
    "version": 3
   },
   "file_extension": ".py",
   "mimetype": "text/x-python",
   "name": "python",
   "nbconvert_exporter": "python",
   "pygments_lexer": "ipython3",
   "version": "3.11.9"
  }
 },
 "nbformat": 4,
 "nbformat_minor": 2
}

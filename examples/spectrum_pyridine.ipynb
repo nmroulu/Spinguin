{
 "cells": [
  {
   "cell_type": "markdown",
   "metadata": {},
   "source": [
    "## Spectrum Simulation Example\n",
    "\n",
    "In this example, we will simulate the NMR spectrum of a Pyridine molecule.\n",
    "\n",
    "- **Molecule and Spins**: The simulation incorporates all NMR active nuclei of the Pyridine molecule.\n",
    "\n",
    "- **Interactions Included**:\n",
    "    - **Coherent Interactions**:\n",
    "        - Zeeman interaction.\n",
    "        - Chemical shift.\n",
    "        - Scalar $J$-coupling.\n",
    "    - **Incoherent Interactions**:\n",
    "        - Dipolar coupling.\n",
    "        - Shielding.\n",
    "        - Quadrupolar interaction.\n",
    "        - Scalar relaxation of the second kind.\n",
    "\n",
    "This example provides an overview of how to simulate NMR spectra using Spinguin using its user-friendly API."
   ]
  },
  {
   "cell_type": "markdown",
   "metadata": {},
   "source": [
    "### Imports\n",
    "\n",
    "To begin, we import all the necessary modules.\n",
    "\n",
    "- **NumPy**: Used for creating arrays required for input parameters and storing results.\n",
    "- **Matplotlib**: Utilized for plotting the simulation results.\n",
    "- **Spinguin**: Provides specialized functionality for simulating NMR experiments."
   ]
  },
  {
   "cell_type": "code",
   "execution_count": null,
   "metadata": {},
   "outputs": [],
   "source": [
    "# Import necessary modules:\n",
    "import numpy as np\n",
    "import matplotlib.pyplot as plt\n",
    "import spinguin as sg"
   ]
  },
  {
   "cell_type": "markdown",
   "metadata": {},
   "source": [
    "### Simulation Parameters\n",
    "\n",
    "Next, we define the simulation parameters.\n",
    "\n",
    "The following experimental conditions are defined:\n",
    "\n",
    "- **Magnetic Field (T)**: The strength of the static magnetic field $B_0$.\n",
    "- **Temperature (K)**: The temperature at which the simulation is conducted.\n",
    "\n",
    "The following acquisition parameters are defined:\n",
    "\n",
    "- **Isotope**: Defines the isotope that is to be measured.\n",
    "- **Dwell Time (s)**: Defines the sampling frequency. Must be set such that the Nyquist criterion is met.\n",
    "- **Number of Points**: Defines the number of points in the FID. Together with dwell time, determines the total acquisition time.\n",
    "- **Angle**: Defines the pulse angle.\n",
    "- **Center Frequencies (ppm)**: Sets the offset of the spectrometer to the specified frequencies. This should be set close to the center of the spectrum."
   ]
  },
  {
   "cell_type": "code",
   "execution_count": null,
   "metadata": {},
   "outputs": [],
   "source": [
    "# Experimental conditions\n",
    "sg.parameters.magnetic_field = 9.4\n",
    "sg.parameters.temperature = 295\n",
    "\n",
    "# Acquisition parameters:\n",
    "isotope = \"1H\"\n",
    "dwell_time = sg.spectral_width_to_dwell_time(2, isotope)\n",
    "npoints = 12500\n",
    "angle = 90\n",
    "center_frequency = 8"
   ]
  },
  {
   "cell_type": "markdown",
   "metadata": {},
   "source": [
    "### Define the Spin System\n",
    "\n",
    "Next, we perform the following:\n",
    "\n",
    "- **Initialize Spin System**: We create a spin system that consists of 5 protons (1H) and 1 nitrogen (14N).\n",
    "- **Define Maximum Spin Order**: To speed up the calculations, the maximum spin order is restricted to include at most 3 spins.\n",
    "- **Build the Basis**: We build the Liouville space basis set for the spin system."
   ]
  },
  {
   "cell_type": "code",
   "execution_count": null,
   "metadata": {},
   "outputs": [],
   "source": [
    "# Define the spin system\n",
    "spin_system = sg.spin_system(['1H', '1H', '1H', '1H', '1H', '14N'])\n",
    "spin_system.basis.max_spin_order = 3\n",
    "spin_system.basis.build()"
   ]
  },
  {
   "cell_type": "markdown",
   "metadata": {},
   "source": [
    "### Define the Spin System Parameters\n",
    "\n",
    "We define the following parameters:\n",
    "\n",
    "- **Chemical Shifts (ppm)**: The chemical shifts for each nucleus.\n",
    "- **J Couplings (Hz)**: The $J$-coupling constants between nuclei.\n",
    "- **XYZ Coordinates (Å)**: The spatial positions of the nuclei in Cartesian coordinates.\n",
    "- **Shielding Tensors (ppm)**: The nuclear shielding tensors in Cartesian coordinates.\n",
    "- **EFG Tensors (a.u.)**: The electric field gradient tensors in Cartesian coordinates."
   ]
  },
  {
   "cell_type": "code",
   "execution_count": null,
   "metadata": {},
   "outputs": [],
   "source": [
    "# Set the spin system properties\n",
    "spin_system.chemical_shifts = np.array([8.56, 8.56, 7.47, 7.47, 7.88, 95.94])\n",
    "\n",
    "spin_system.J_couplings = np.array([\n",
    "    [ 0,     0,      0,      0,      0,      0],\n",
    "    [-1.04,  0,      0,      0,      0,      0],\n",
    "    [ 4.85,  1.05,   0,      0,      0,      0],\n",
    "    [ 1.05,  4.85,   0.71,   0,      0,      0],\n",
    "    [ 1.24,  1.24,   7.55,   7.55,   0,      0],\n",
    "    [ 8.16,  8.16,   0.87,   0.87,  -0.19,   0]\n",
    "])\n",
    "\n",
    "spin_system.xyz = np.array([\n",
    "    [ 2.0495335,  0.0000000, -1.4916842],\n",
    "    [-2.0495335,  0.0000000, -1.4916842],\n",
    "    [ 2.1458878,  0.0000000,  0.9846086],\n",
    "    [-2.1458878,  0.0000000,  0.9846086],\n",
    "    [ 0.0000000,  0.0000000,  2.2681296],\n",
    "    [ 0.0000000,  0.0000000, -1.5987077]\n",
    "])\n",
    "\n",
    "spin_system.shielding = np.zeros((6, 3, 3))\n",
    "spin_system.shielding[5] = np.array([\n",
    "    [-406.20,  0.00,    0.00],\n",
    "    [   0.00, 299.44,   0.00],\n",
    "    [   0.00,   0.00, -181.07]\n",
    "])\n",
    "\n",
    "spin_system.efg = np.zeros((6, 3, 3))\n",
    "spin_system.efg[5] = np.array([\n",
    "    [ 0.3069,  0.0000,  0.0000],\n",
    "    [ 0.0000,  0.7969,  0.0000],\n",
    "    [ 0.0000,  0.0000, -1.1037]\n",
    "])"
   ]
  },
  {
   "cell_type": "markdown",
   "metadata": {},
   "source": [
    "### Define the relaxation theory\n",
    "\n",
    "We will treat the relaxation using Redfield theory. The following parameters are set:\n",
    "\n",
    "- **Theory**: We specify that Redfield theory is used.\n",
    "- **SR2K**: We specify that scalar relaxation of the second kind is considered.\n",
    "- **Thermalization**: Thermalization of the relaxation superoperator (Levitt-di Bari) is enabled.\n",
    "- **Rotational Correlation Time (ps)**: The characteristic time for molecular tumbling, affecting relaxation processes."
   ]
  },
  {
   "cell_type": "code",
   "execution_count": null,
   "metadata": {},
   "outputs": [],
   "source": [
    "# Set the relaxation theory\n",
    "spin_system.relaxation.theory = \"redfield\"\n",
    "spin_system.relaxation.sr2k = True\n",
    "spin_system.relaxation.thermalization = True\n",
    "spin_system.relaxation.tau_c = 50e-12"
   ]
  },
  {
   "cell_type": "markdown",
   "metadata": {},
   "source": [
    "### Perform the pulse-and-acquire experiment\n",
    "\n",
    "To simulate the spectrum, we perform the pulse-and-acquire experiment, which returns the free induction decay (FID) signal."
   ]
  },
  {
   "cell_type": "code",
   "execution_count": null,
   "metadata": {},
   "outputs": [],
   "source": [
    "# Acquire\n",
    "fid = sg.pulse_and_acquire(spin_system, isotope, center_frequency, npoints, dwell_time, angle)"
   ]
  },
  {
   "cell_type": "markdown",
   "metadata": {},
   "source": [
    "### Perform the Fourier Transform to Obtain the Spectrum\n",
    "\n",
    "- **Fourier Transform**: We then take the Fourier transform of the magnetization data to get the NMR spectrum.\n",
    "- **Consider the Rotating Frame Frequency**: The detection was performed in a rotating frame that involved the high-frequency component arising from bare-nucleus Zeeman interaction and the user-specified center frequency. The rotating frame frequency is added back to the detected frequencies.\n",
    "- **Frequency to Chemical Shift Conversion**: The frequency axis is converted to chemical shifts in ppm for better interpretability of the spectrum."
   ]
  },
  {
   "cell_type": "code",
   "execution_count": null,
   "metadata": {},
   "outputs": [],
   "source": [
    "# Compute the real part of the spectrum.\n",
    "freqs, spec = sg.spectrum(fid, dwell_time)\n",
    "\n",
    "# Convert rotating frame frequencies back to labframe\n",
    "rotframe_frequency = sg.resonance_frequency(isotope, center_frequency)\n",
    "freqs = freqs + rotframe_frequency\n",
    "\n",
    "# Convert frequencies to ppm\n",
    "spectrometer_frequency = sg.resonance_frequency(isotope)\n",
    "chemical_shifts = sg.frequency_to_chemical_shift(freqs, spectrometer_frequency, spectrometer_frequency)"
   ]
  },
  {
   "cell_type": "markdown",
   "metadata": {},
   "source": [
    "### Plot the Results\n",
    "\n",
    "Congratulations! The simulation is complete. We will then plot the results."
   ]
  },
  {
   "cell_type": "code",
   "execution_count": null,
   "metadata": {},
   "outputs": [],
   "source": [
    "# Plot the magnetization over time\n",
    "t_axis = sg.time_axis(npoints, dwell_time)\n",
    "plt.figure(figsize=(8, 4))\n",
    "plt.plot(t_axis, np.real(fid), color='blue')\n",
    "plt.title('Transverse Magnetization')\n",
    "plt.xlabel('Time (s)')\n",
    "plt.ylabel('Magnetization')\n",
    "plt.grid()\n",
    "plt.xlim(0, npoints*dwell_time)\n",
    "plt.tight_layout()\n",
    "plt.show()"
   ]
  },
  {
   "cell_type": "code",
   "execution_count": null,
   "metadata": {},
   "outputs": [],
   "source": [
    "# Create a figure with subplots\n",
    "fig, axes = plt.subplots(4, 1, figsize=(10, 16), gridspec_kw={'height_ratios': [1, 1, 1, 1]})\n",
    "\n",
    "# Plot the full spectrum on the top\n",
    "axes[0].plot(chemical_shifts, spec, color='blue')\n",
    "axes[0].set_title('Full Spectrum')\n",
    "axes[0].set_xlabel('Chemical Shift (ppm)')\n",
    "axes[0].set_ylabel('Intensity')\n",
    "axes[0].grid()\n",
    "axes[0].set_xlim(8.8, 7.2)\n",
    "\n",
    "# Plot the zoomed-in spectrum (left) in the second subplot\n",
    "axes[1].plot(chemical_shifts, spec, color='blue')\n",
    "axes[1].set_title('Spectrum (Zoomed In - Left)')\n",
    "axes[1].set_xlabel('Chemical Shift (ppm)')\n",
    "axes[1].set_ylabel('Intensity')\n",
    "axes[1].grid()\n",
    "axes[1].set_xlim(7.49, 7.45)\n",
    "\n",
    "# Plot the zoomed-in spectrum (middle) in the third subplot\n",
    "axes[2].plot(chemical_shifts, spec, color='blue')\n",
    "axes[2].set_title('Spectrum (Zoomed In - Middle)')\n",
    "axes[2].set_xlabel('Chemical Shift (ppm)')\n",
    "axes[2].set_ylabel('Intensity')\n",
    "axes[2].grid()\n",
    "axes[2].set_xlim(7.91, 7.85)\n",
    "\n",
    "# Plot the zoomed-in spectrum (right) at the bottom\n",
    "axes[3].plot(chemical_shifts, spec, color='blue')\n",
    "axes[3].set_title('Spectrum (Zoomed In - Right)')\n",
    "axes[3].set_xlabel('Chemical Shift (ppm)')\n",
    "axes[3].set_ylabel('Intensity')\n",
    "axes[3].grid()\n",
    "axes[3].set_xlim(8.57, 8.55)\n",
    "\n",
    "# Adjust layout for better spacing\n",
    "plt.tight_layout()\n",
    "plt.show()"
   ]
  }
 ],
 "metadata": {
  "kernelspec": {
   "display_name": "dev_environment",
   "language": "python",
   "name": "python3"
  },
  "language_info": {
   "codemirror_mode": {
    "name": "ipython",
    "version": 3
   },
   "file_extension": ".py",
   "mimetype": "text/x-python",
   "name": "python",
   "nbconvert_exporter": "python",
   "pygments_lexer": "ipython3",
   "version": "3.11.9"
  }
 },
 "nbformat": 4,
 "nbformat_minor": 2
}

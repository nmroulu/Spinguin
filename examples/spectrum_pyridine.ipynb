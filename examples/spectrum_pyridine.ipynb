{
 "cells": [
  {
   "cell_type": "markdown",
   "metadata": {},
   "source": [
    "## Spectrum Simulation Example\n",
    "\n",
    "In this example, we will simulate the NMR spectrum of a Pyridine molecule.\n",
    "\n",
    "- **Molecule and Spins**: The simulation incorporates only the 5 protons of the Pyridine molecule.\n",
    "\n",
    "- **Interactions Included**:\n",
    "    - **Coherent Interactions**:\n",
    "        - Zeeman interaction.\n",
    "        - Chemical shift.\n",
    "        - Scalar $J$-coupling.\n",
    "    - **Incoherent Interactions**:\n",
    "        - Dipolar coupling.\n",
    "\n",
    "This example provides an overview of how to simulate NMR spectra using Spinguin."
   ]
  },
  {
   "cell_type": "markdown",
   "metadata": {},
   "source": [
    "### Imports\n",
    "\n",
    "To begin, we import all the necessary modules.\n",
    "\n",
    "- **NumPy**: Used for creating arrays required for input parameters and storing results.\n",
    "- **Matplotlib**: Utilized for plotting the simulation results.\n",
    "- **Spinguin**: Provides specialized functionality for simulating NMR experiments."
   ]
  },
  {
   "cell_type": "code",
   "execution_count": 1,
   "metadata": {},
   "outputs": [],
   "source": [
    "# Import necessary modules:\n",
    "import numpy as np\n",
    "import matplotlib.pyplot as plt\n",
    "from tqdm import tqdm\n",
    "from spinguin import SpinSystem, hamiltonian, relaxation,\\\n",
    "                     equilibrium_state, measure, propagator,\\\n",
    "                     pulse, spectrum, rotating_frame_timestep,\\\n",
    "                     frequency_to_chemical_shift"
   ]
  },
  {
   "cell_type": "markdown",
   "metadata": {},
   "source": [
    "### Simulation Parameters\n",
    "\n",
    "The following simulation parameters are defined:\n",
    "\n",
    "- **Magnetic Field (T)**: The strength of the static magnetic field $B_0$.\n",
    "- **Rotational Correlation Time (ps)**: The characteristic time for molecular tumbling, affecting relaxation processes.\n",
    "- **Temperature (K)**: The temperature at which the simulation is conducted."
   ]
  },
  {
   "cell_type": "code",
   "execution_count": 2,
   "metadata": {},
   "outputs": [],
   "source": [
    "# Define simulation parameters:\n",
    "B0 = 9.4 # Tesla\n",
    "tau_c = 50e-12 # 50 picoseconds\n",
    "T = 295 # Kelvin"
   ]
  },
  {
   "cell_type": "markdown",
   "metadata": {},
   "source": [
    "### Define the Spin System\n",
    "\n",
    "To define the spin system, we need to specify the following parameters:\n",
    "\n",
    "- **Isotopes**: The types of nuclei in the system.\n",
    "- **Chemical Shifts (ppm)**: The chemical shifts for each nucleus.\n",
    "- **J Couplings (Hz)**: The $J$-coupling constants between nuclei.\n",
    "- **XYZ Coordinates (Å)**: The spatial positions of the nuclei in Cartesian coordinates.\n",
    "\n",
    "These parameters are defined as NumPy arrays and provided as input when creating the spin system object."
   ]
  },
  {
   "cell_type": "code",
   "execution_count": 3,
   "metadata": {},
   "outputs": [],
   "source": [
    "# Define the spin system parameters:\n",
    "isotopes = np.array(['1H', '1H', '1H', '1H', '1H'])\n",
    "chemical_shifts = np.array([8.56, 8.56, 7.47, 7.47, 7.88])\n",
    "\n",
    "J_couplings = np.array([\n",
    "    [ 0,     0,      0,      0,      0],\n",
    "    [-1.04,  0,      0,      0,      0],\n",
    "    [ 4.85,  1.05,   0,      0,      0],\n",
    "    [ 1.05,  4.85,   0.71,   0,      0],\n",
    "    [ 1.24,  1.24,   7.55,   7.55,   0]\n",
    "])\n",
    "xyz = np.array([\n",
    "    [ 2.0495335,  0.0000000, -1.4916842],\n",
    "    [-2.0495335,  0.0000000, -1.4916842],\n",
    "    [ 2.1458878,  0.0000000,  0.9846086],\n",
    "    [-2.1458878,  0.0000000,  0.9846086],\n",
    "    [ 0.0000000,  0.0000000,  2.2681296]\n",
    "])\n",
    "shielding = np.zeros((5, 3, 3)) # TODO: Remove\n",
    "efg = np.zeros((5, 3, 3)) # TODO: Remove\n",
    "\n",
    "# Create the spin system object with the defined parameters.\n",
    "# The maximum spin order is limited to 3 to enhance computational performance.\n",
    "spin_system = SpinSystem(\n",
    "    isotopes, \n",
    "    chemical_shifts, \n",
    "    J_couplings, \n",
    "    xyz, \n",
    "    shielding, # TODO: Remove\n",
    "    efg, # TODO: Remove\n",
    "    max_spin_order=5,\n",
    ")"
   ]
  },
  {
   "cell_type": "markdown",
   "metadata": {},
   "source": [
    "### Calculate Hamiltonian and Relaxation Superoperators\n",
    "\n",
    "To perform the time evolution of the spin system under the NMR interactions described by the Liouvillian, we need to calculate the following:\n",
    "\n",
    "- **Hamiltonian**: Represents the coherent interactions in the system.\n",
    "- **Relaxation Superoperator**: Accounts for the incoherent interactions and the resulting relaxation processes."
   ]
  },
  {
   "cell_type": "code",
   "execution_count": null,
   "metadata": {},
   "outputs": [],
   "source": [
    "# Calculate the Hamiltonian for the spin system.\n",
    "H = hamiltonian(spin_system, B0)\n",
    "\n",
    "# Calculate the relaxation superoperator for the spin system.\n",
    "R = relaxation(spin_system, H, B0, tau_c)"
   ]
  },
  {
   "cell_type": "markdown",
   "metadata": {},
   "source": [
    "### Thermal Equilibrium\n",
    "\n",
    "To compute the NMR spectrum, we need the thermal equilibrium state.\n",
    "\n",
    "- The thermal equilibrium state represents the natural distribution of spin populations in the presence of an external magnetic field at a given temperature.\n",
    "- We create a state vector corresponding to this thermal equilibrium, which serves as the starting point for the simulation."
   ]
  },
  {
   "cell_type": "code",
   "execution_count": 5,
   "metadata": {},
   "outputs": [],
   "source": [
    "# Initialize the state vector to thermal equilibrium.\n",
    "rho = equilibrium_state(spin_system, T, B0)"
   ]
  },
  {
   "cell_type": "markdown",
   "metadata": {},
   "source": [
    "### Apply 90-Degree Pulse\n",
    "\n",
    "The spectral simulation begins with a 90-degree pulse.\n",
    "\n",
    "- The 90-degree pulse is applied along the $y$-axis to selected protons (spins with indices 0 to 3).\n",
    "- This pulse is essentially a rotation operator that tips the magnetization of the selected spins into the transverse plane.\n",
    "- The pulse is applied by multiplying the state vector with the rotation operator."
   ]
  },
  {
   "cell_type": "code",
   "execution_count": null,
   "metadata": {},
   "outputs": [],
   "source": [
    "# Apply a 90-degree pulse along the y-axis to the protons (spins with indices 0 to 3).\n",
    "pulse_str = 'I(y,0) + I(y,1) + I(y,2) + I(y,3)'\n",
    "pul_90 = pulse(spin_system, pulse_str, angle=90)\n",
    "\n",
    "# Update the state vector by applying the 90-degree pulse.\n",
    "rho = pul_90 @ rho"
   ]
  },
  {
   "cell_type": "markdown",
   "metadata": {},
   "source": [
    "### Construct the Time Propagator\n",
    "\n",
    "The time propagator is a crucial component for simulating the time evolution of the spin system.\n",
    "\n",
    "- **Purpose**: The propagator is used to drive the spin system forward in time during the simulation.\n",
    "- **Construction**: It is constructed using the Hamiltonian and the relaxation superoperator.\n",
    "- **Time Step**: The propagator is specific to the chosen time step, ensuring accurate simulation of the dynamics.\n",
    "\n",
    "Note: The simulation is performed in the rotating frame to remove the high-frequency oscillations associated with the bare-nucleus Larmor precession."
   ]
  },
  {
   "cell_type": "code",
   "execution_count": null,
   "metadata": {},
   "outputs": [],
   "source": [
    "# Construct the Liouvillian superoperator.\n",
    "L = -1j*H - R\n",
    "\n",
    "# Get the optimal timestep in the rotating frame.\n",
    "dt = rotating_frame_timestep(spin_system, B0)\n",
    "\n",
    "# Construct the propagator in the rotating frame.\n",
    "P = propagator(L, dt, rotating_frame=True, spin_system=spin_system, B=B0)"
   ]
  },
  {
   "cell_type": "markdown",
   "metadata": {},
   "source": [
    "### Initialize an Empty Array for Storing Results\n",
    "\n",
    "In this spectrum simulation, we aim to measure the transverse magnetizations of the spins at various time intervals to compute the NMR spectrum.\n",
    "- **Simulation Approach**: The simulation involves applying a 90-degree pulse and propagating the spin system forward in time. At each time step, the magnetization is \"measured\" by calculating the expectation value of the specified operator. This corresponds to the quadrature detection.\n",
    "- **Storage**: To store the magnetizations, we initialize a NumPy array. The array dimensions correspond to:\n",
    "    - The number of time steps in the simulation.\n",
    "    - The total magnetization of the spin system."
   ]
  },
  {
   "cell_type": "code",
   "execution_count": 8,
   "metadata": {},
   "outputs": [],
   "source": [
    "# Define simulation time and the number time steps\n",
    "t_max = 25\n",
    "N_steps = int(t_max / dt)\n",
    "\n",
    "# Initialize an array to store the sum transverse magnetization of the spins.\n",
    "magnetizations = np.zeros(N_steps, dtype=complex)"
   ]
  },
  {
   "cell_type": "markdown",
   "metadata": {},
   "source": [
    "### Perform the Time Evolution\n",
    "\n",
    "We are now ready to perform the time evolution of the spin system.\n",
    "\n",
    "- **Loop Over Time Steps**: Iterate through the total number of time steps defined for the simulation.\n",
    "- **Propagate the System**: At each time step, propagate the spin system forward in time using the time propagator.\n",
    "- **Measure Magnetization**: For each proton (spins with indices 0 to 4), measure the total transverse magnetization ($\\hat S_- = \\hat S_x -i\\hat S_y$) and store the results in the `magnetizations` array."
   ]
  },
  {
   "cell_type": "code",
   "execution_count": null,
   "metadata": {},
   "outputs": [],
   "source": [
    "from tqdm import tqdm\n",
    "\n",
    "# Define the measurement operator for the simulation.\n",
    "measurement_str = 'I(-,0) + I(-,1) + I(-,2) + I(-,3) + I(-,4)'\n",
    "\n",
    "# Perform the time evolution of the spin system with a progress bar.\n",
    "for step in tqdm(range(N_steps), desc=\"Simulating Time Evolution\"):\n",
    "    \n",
    "    # Perform the quadrature detection of the transverse magnetization.\n",
    "    magnetizations[step] += measure(spin_system, rho, measurement_str)\n",
    "\n",
    "    # Propagate the state vector to the next time step.\n",
    "    rho = P @ rho"
   ]
  },
  {
   "cell_type": "markdown",
   "metadata": {},
   "source": [
    "### Perform the Fourier Transform to Obtain the Spectrum\n",
    "\n",
    "- **Fourier Transform**: We then take the Fourier transform of the magnetization data to get the NMR spectrum.\n",
    "- **Frequency to Chemical Shift Conversion**: The frequency axis is converted to chemical shifts in ppm for better interpretability of the spectrum."
   ]
  },
  {
   "cell_type": "code",
   "execution_count": 10,
   "metadata": {},
   "outputs": [],
   "source": [
    "# Compute the real part of the spectrum.\n",
    "freqs, spec = spectrum(magnetizations, dt)\n",
    "\n",
    "# Set the spectrometer frequency to the Larmor frequency of protons.\n",
    "freq_spectrometer = -spin_system.gammas[0] * B0 / (2 * np.pi)\n",
    "\n",
    "# Convert frequencies to chemical shifts\n",
    "chemical_shifts = frequency_to_chemical_shift(freqs, 0, freq_spectrometer)"
   ]
  },
  {
   "cell_type": "markdown",
   "metadata": {},
   "source": [
    "### Plot the Results\n",
    "\n",
    "Congratulations! The simulation is complete. We will then plot the results."
   ]
  },
  {
   "cell_type": "code",
   "execution_count": null,
   "metadata": {},
   "outputs": [],
   "source": [
    "# Plot the magnetization over time\n",
    "t_axis = np.arange(0, N_steps) * dt\n",
    "plt.figure(figsize=(8, 4))\n",
    "plt.plot(t_axis, np.real(magnetizations), color='blue')\n",
    "plt.title('Transverse Magnetization')\n",
    "plt.xlabel('Time (s)')\n",
    "plt.ylabel('Magnetization')\n",
    "plt.grid()\n",
    "plt.xlim(0, t_max)\n",
    "plt.tight_layout()\n",
    "plt.show()"
   ]
  },
  {
   "cell_type": "code",
   "execution_count": null,
   "metadata": {},
   "outputs": [],
   "source": [
    "# Create a figure with subplots\n",
    "fig, axes = plt.subplots(4, 1, figsize=(10, 16), gridspec_kw={'height_ratios': [1, 1, 1, 1]})\n",
    "\n",
    "# Plot the full spectrum on the top\n",
    "axes[0].plot(chemical_shifts, spec, color='blue')\n",
    "axes[0].set_title('Full Spectrum')\n",
    "axes[0].set_xlabel('Chemical Shift (ppm)')\n",
    "axes[0].set_ylabel('Intensity')\n",
    "axes[0].grid()\n",
    "axes[0].set_xlim(7.25, 8.75)\n",
    "\n",
    "# Plot the zoomed-in spectrum (left) in the second subplot\n",
    "axes[1].plot(chemical_shifts, spec, color='blue')\n",
    "axes[1].set_title('Spectrum (Zoomed In - Left)')\n",
    "axes[1].set_xlabel('Chemical Shift (ppm)')\n",
    "axes[1].set_ylabel('Intensity')\n",
    "axes[1].grid()\n",
    "axes[1].set_xlim(7.45, 7.49)\n",
    "\n",
    "# Plot the zoomed-in spectrum (middle) in the third subplot\n",
    "axes[2].plot(chemical_shifts, spec, color='blue')\n",
    "axes[2].set_title('Spectrum (Zoomed In - Middle)')\n",
    "axes[2].set_xlabel('Chemical Shift (ppm)')\n",
    "axes[2].set_ylabel('Intensity')\n",
    "axes[2].grid()\n",
    "axes[2].set_xlim(7.85, 7.91)\n",
    "axes[2].set_ylim(-0.04e-5, 0.04e-5)\n",
    "\n",
    "# Plot the zoomed-in spectrum (right) at the bottom\n",
    "axes[3].plot(chemical_shifts, spec, color='blue')\n",
    "axes[3].set_title('Spectrum (Zoomed In - Right)')\n",
    "axes[3].set_xlabel('Chemical Shift (ppm)')\n",
    "axes[3].set_ylabel('Intensity')\n",
    "axes[3].grid()\n",
    "axes[3].set_xlim(8.55, 8.57)\n",
    "\n",
    "# Adjust layout for better spacing\n",
    "plt.tight_layout()\n",
    "plt.show()"
   ]
  }
 ],
 "metadata": {
  "kernelspec": {
   "display_name": "base",
   "language": "python",
   "name": "python3"
  },
  "language_info": {
   "codemirror_mode": {
    "name": "ipython",
    "version": 3
   },
   "file_extension": ".py",
   "mimetype": "text/x-python",
   "name": "python",
   "nbconvert_exporter": "python",
   "pygments_lexer": "ipython3",
   "version": "3.11.5"
  }
 },
 "nbformat": 4,
 "nbformat_minor": 2
}

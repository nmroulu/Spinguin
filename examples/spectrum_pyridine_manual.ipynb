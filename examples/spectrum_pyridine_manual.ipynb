{
 "cells": [
  {
   "cell_type": "markdown",
   "metadata": {},
   "source": [
    "## Spectrum Simulation Example\n",
    "\n",
    "In this example, we will simulate the NMR spectrum of a Pyridine molecule.\n",
    "\n",
    "- **Molecule and Spins**: The simulation incorporates all NMR active nuclei of the Pyridine molecule.\n",
    "\n",
    "- **Interactions Included**:\n",
    "    - **Coherent Interactions**:\n",
    "        - Zeeman interaction.\n",
    "        - Chemical shift.\n",
    "        - Scalar $J$-coupling.\n",
    "    - **Incoherent Interactions**:\n",
    "        - Dipolar coupling.\n",
    "        - Shielding.\n",
    "        - Quadrupolar interaction.\n",
    "        - Scalar relaxation of the second kind.\n",
    "\n",
    "This example provides an overview of how to simulate NMR spectra using Spinguin using its core functionality."
   ]
  },
  {
   "cell_type": "markdown",
   "metadata": {},
   "source": [
    "### Imports\n",
    "\n",
    "To begin, we import all the necessary modules.\n",
    "\n",
    "- **NumPy**: Used for creating arrays required for input parameters and storing results.\n",
    "- **Matplotlib**: Utilized for plotting the simulation results.\n",
    "- **tqdm**: Used to show progress during propagation.\n",
    "- **Spinguin**: Provides specialized functionality for simulating NMR experiments."
   ]
  },
  {
   "cell_type": "code",
   "execution_count": null,
   "metadata": {},
   "outputs": [],
   "source": [
    "# Import necessary modules:\n",
    "import numpy as np\n",
    "import matplotlib.pyplot as plt\n",
    "from tqdm import tqdm\n",
    "from spinguin.qm.basis import make_basis\n",
    "from spinguin.qm.hamiltonian import sop_H_coherent, sop_H_CS, sop_H_Z\n",
    "from spinguin.qm.relaxation import sop_R_redfield, sop_R_sr2k, ldb_thermalization\n",
    "from spinguin.qm.states import equilibrium_state, measure\n",
    "from spinguin.qm.propagation import sop_pulse, sop_propagator, propagator_to_rotframe\n",
    "from spinguin.utils.nmr_isotopes import ISOTOPES\n",
    "from spinguin.utils.la import spectrum, frequency_to_chemical_shift"
   ]
  },
  {
   "cell_type": "markdown",
   "metadata": {},
   "source": [
    "### Simulation Parameters\n",
    "\n",
    "Next, we define the simulation parameters.\n",
    "\n",
    "The following experimental conditions are defined:\n",
    "\n",
    "- **Magnetic Field (T)**: The strength of the static magnetic field $B_0$.\n",
    "- **Temperature (K)**: The temperature at which the simulation is conducted.\n",
    "\n",
    "The following acquisition parameters are defined:\n",
    "\n",
    "- **Dwell Time (s)**: Defines the sampling frequency. Must be set such that the Nyquist criterion is met.\n",
    "- **Number of Points**: Defines the number of points in the FID. Together with dwell time, determines the total acquisition time.\n",
    "- **Center Frequencies (ppm)**: Sets the offset of the spectrometer to the specified frequencies. This should be set close to the center of the spectrum."
   ]
  },
  {
   "cell_type": "code",
   "execution_count": null,
   "metadata": {},
   "outputs": [],
   "source": [
    "# Experimental conditions\n",
    "B0 = 9.4\n",
    "T = 295\n",
    "\n",
    "# Acquisition parameters:\n",
    "dwell_time = 2e-3\n",
    "npoints = 12500\n",
    "center_1H = 8\n",
    "center_14N = 0"
   ]
  },
  {
   "cell_type": "markdown",
   "metadata": {},
   "source": [
    "### Define the Spin System and Construct the Basis\n",
    "\n",
    "To define the spin system, we need to specify the following parameters:\n",
    "\n",
    "- **Spin Quantum Numbers**: An array that contains all the spin quantum number for each spin.\n",
    "- **Maximum Spin Order**: The maximum entanglement between spins. Limiting the maximum spin order decreases the computational cost.\n",
    "\n",
    "With these defined, the basis is constructed."
   ]
  },
  {
   "cell_type": "code",
   "execution_count": null,
   "metadata": {},
   "outputs": [],
   "source": [
    "# Define the spin system parameters:\n",
    "spins = np.array([1/2, 1/2, 1/2, 1/2, 1/2, 1])\n",
    "max_spin_order = 3\n",
    "basis = make_basis(spins, max_spin_order)"
   ]
  },
  {
   "cell_type": "markdown",
   "metadata": {},
   "source": [
    "### Define the Spin System Parameters\n",
    "\n",
    "We define the following parameters:\n",
    "\n",
    "- **Gyromagnetic Ratios (rad/s)**: Gyromagnetic ratios for each nucleus.\n",
    "- **Quadrupolar Moments ($\\mathbf{m}^2$)**: Quadrupolar moments for each nucleus. For non-quadrupolar nuclei, these will be zero.\n",
    "- **Chemical Shifts (ppm)**: The chemical shifts for each nucleus.\n",
    "- **J Couplings (Hz)**: The $J$-coupling constants between nuclei.\n",
    "- **XYZ Coordinates (Å)**: The spatial positions of the nuclei in Cartesian coordinates.\n",
    "- **Shielding Tensors (ppm)**: The nuclear shielding tensors in Cartesian coordinates.\n",
    "- **EFG Tensors (a.u.)**: The electric field gradient tensors in Cartesian coordinates.\n",
    "- **Rotational Correlation Time (s)**: The characteristic time for molecular tumbling, affecting relaxation processes."
   ]
  },
  {
   "cell_type": "code",
   "execution_count": null,
   "metadata": {},
   "outputs": [],
   "source": [
    "y1H = 2*np.pi * ISOTOPES['1H'][1] * 10**6\n",
    "y14N = 2*np.pi * ISOTOPES['14N'][1] * 10**6\n",
    "gammas = np.array([y1H, y1H, y1H, y1H, y1H, y14N])\n",
    "\n",
    "q14N = ISOTOPES['14N'][2] * 1e-28\n",
    "quad = np.array([0, 0, 0, 0, 0, q14N])\n",
    "\n",
    "chemical_shifts = np.array([8.56, 8.56, 7.47, 7.47, 7.88, 95.94])\n",
    "\n",
    "J_couplings = np.array([\n",
    "    [ 0,     0,      0,      0,      0,      0],\n",
    "    [-1.04,  0,      0,      0,      0,      0],\n",
    "    [ 4.85,  1.05,   0,      0,      0,      0],\n",
    "    [ 1.05,  4.85,   0.71,   0,      0,      0],\n",
    "    [ 1.24,  1.24,   7.55,   7.55,   0,      0],\n",
    "    [ 8.16,  8.16,   0.87,   0.87,  -0.19,   0]\n",
    "])\n",
    "\n",
    "xyz = np.array([\n",
    "    [ 2.0495335,  0.0000000, -1.4916842],\n",
    "    [-2.0495335,  0.0000000, -1.4916842],\n",
    "    [ 2.1458878,  0.0000000,  0.9846086],\n",
    "    [-2.1458878,  0.0000000,  0.9846086],\n",
    "    [ 0.0000000,  0.0000000,  2.2681296],\n",
    "    [ 0.0000000,  0.0000000, -1.5987077]\n",
    "])\n",
    "\n",
    "shielding = np.zeros((6, 3, 3))\n",
    "shielding[5] = np.array([\n",
    "    [-406.20,  0.00,    0.00],\n",
    "    [   0.00, 299.44,   0.00],\n",
    "    [   0.00,   0.00, -181.07]\n",
    "])\n",
    "\n",
    "efg = np.zeros((6, 3, 3))\n",
    "efg[5] = np.array([\n",
    "    [ 0.3069,  0.0000,  0.0000],\n",
    "    [ 0.0000,  0.7969,  0.0000],\n",
    "    [ 0.0000,  0.0000, -1.1037]\n",
    "])\n",
    "\n",
    "tau_c = 50e-12"
   ]
  },
  {
   "cell_type": "markdown",
   "metadata": {},
   "source": [
    "### Calculate Hamiltonian and Relaxation Superoperators\n",
    "\n",
    "To perform the time evolution of the spin system under the NMR interactions described by the Liouvillian, we need to calculate the following:\n",
    "\n",
    "- **Hamiltonian**: Represents the coherent interactions in the system.\n",
    "- **Relaxation Superoperator**: Accounts for the incoherent interactions and the resulting relaxation processes.\n",
    "\n",
    "The relaxation superoperator is calculated using Redfield theory. The contribution from scalar relaxation of the second kind is added empirically. Ultimately, the relaxation superoperator is thermalized using the Levitt-di Bari convention."
   ]
  },
  {
   "cell_type": "code",
   "execution_count": null,
   "metadata": {},
   "outputs": [],
   "source": [
    "# Calculate the Hamiltonian for the spin system.\n",
    "H = sop_H_coherent(basis, gammas, spins, chemical_shifts, J_couplings, B0, \"comm\")\n",
    "\n",
    "# Calculate the relaxation superoperator for the spin system.\n",
    "R = sop_R_redfield(basis, H, tau_c, spins, B0, gammas, quad, xyz, shielding, efg)\n",
    "R = R + sop_R_sr2k(basis, spins, gammas, chemical_shifts, J_couplings, R, B0)\n",
    "H_left = sop_H_coherent(basis, gammas, spins, chemical_shifts, J_couplings, B0, \"left\")\n",
    "R = ldb_thermalization(R, H_left, T)"
   ]
  },
  {
   "cell_type": "markdown",
   "metadata": {},
   "source": [
    "### Thermal Equilibrium\n",
    "\n",
    "To compute the NMR spectrum, we need the thermal equilibrium state.\n",
    "\n",
    "- The thermal equilibrium state represents the natural distribution of spin populations in the presence of an external magnetic field at a given temperature.\n",
    "- We create a state vector corresponding to this thermal equilibrium, which serves as the starting point for the simulation."
   ]
  },
  {
   "cell_type": "code",
   "execution_count": null,
   "metadata": {},
   "outputs": [],
   "source": [
    "# Initialize the state vector to thermal equilibrium.\n",
    "rho = equilibrium_state(basis, spins, H_left, T)"
   ]
  },
  {
   "cell_type": "markdown",
   "metadata": {},
   "source": [
    "### Apply 90-Degree Pulse\n",
    "\n",
    "The spectral simulation begins with a 90-degree pulse.\n",
    "\n",
    "- The 90-degree pulse is applied along the $y$-axis to selected protons (spins with indices 0 to 3).\n",
    "- This pulse is essentially a rotation operator that tips the magnetization of the selected spins into the transverse plane (towards $x$-axis).\n",
    "- The pulse is applied by multiplying the state vector with the rotation operator."
   ]
  },
  {
   "cell_type": "code",
   "execution_count": null,
   "metadata": {},
   "outputs": [],
   "source": [
    "# Apply a 90-degree pulse along the y-axis to the protons (spins with indices 0 to 4).\n",
    "pulse_str = 'I(y,0) + I(y,1) + I(y,2) + I(y,3) + I(y,4)'\n",
    "pul_90 = sop_pulse(basis, spins, pulse_str, angle=90)\n",
    "\n",
    "# Update the state vector by applying the 90-degree pulse.\n",
    "rho = pul_90 @ rho"
   ]
  },
  {
   "cell_type": "markdown",
   "metadata": {},
   "source": [
    "### Construct the Time Propagator\n",
    "\n",
    "The time propagator is a crucial component for simulating the time evolution of the spin system.\n",
    "\n",
    "- **Purpose**: The propagator is used to drive the spin system forward in time during the simulation.\n",
    "- **Construction**: It is constructed using the Hamiltonian and the relaxation superoperator.\n",
    "- **Time Step**: The propagator is specific to the chosen time step, ensuring accurate simulation of the dynamics.\n",
    "\n",
    "Note: The simulation is performed in the rotating frame to remove the high-frequency oscillations associated with the bare-nucleus Larmor precession. This involves creating a Hamiltonian that includes the time-independent interactions that cause the high-frequency components."
   ]
  },
  {
   "cell_type": "code",
   "execution_count": null,
   "metadata": {},
   "outputs": [],
   "source": [
    "# Construct the Liouvillian superoperator.\n",
    "L = -1j*H - R\n",
    "\n",
    "# Construct the propagator in the rotating frame.\n",
    "P = sop_propagator(L, dwell_time)\n",
    "Hz = sop_H_Z(basis, gammas, spins, B0, \"comm\")\n",
    "center = np.array([center_1H, center_1H, center_1H, center_1H, center_1H, center_14N])\n",
    "Hcenter = sop_H_CS(basis, gammas, spins, center, B0, \"comm\")\n",
    "H_frame = Hz + Hcenter\n",
    "P = propagator_to_rotframe(P, H_frame, dwell_time)"
   ]
  },
  {
   "cell_type": "markdown",
   "metadata": {},
   "source": [
    "### Initialize an Empty Array for Storing Results\n",
    "\n",
    "In this spectrum simulation, we aim to measure the transverse magnetizations of the spins at various time intervals to compute the NMR spectrum.\n",
    "- **Simulation Approach**: The simulation involves applying a 90-degree pulse and propagating the spin system forward in time. At each time step, the magnetization is \"measured\" by calculating the expectation value of the specified operator. This corresponds to the quadrature detection.\n",
    "- **Storage**: To store the magnetizations, we initialize a NumPy array. The array dimension corresponds to the number of time steps in the simulation."
   ]
  },
  {
   "cell_type": "code",
   "execution_count": null,
   "metadata": {},
   "outputs": [],
   "source": [
    "# Initialize an array to store the sum transverse magnetization of the spins.\n",
    "magnetizations = np.zeros(npoints, dtype=complex)"
   ]
  },
  {
   "cell_type": "markdown",
   "metadata": {},
   "source": [
    "### Perform the Time Evolution\n",
    "\n",
    "We are now ready to perform the time evolution of the spin system.\n",
    "\n",
    "- **Loop Over Time Steps**: Iterate through the total number of time steps defined for the simulation.\n",
    "- **Propagate the System**: At each time step, propagate the spin system forward in time using the time propagator.\n",
    "- **Measure Magnetization**: For each proton (spins with indices 0 to 4), measure the total transverse magnetization ($\\hat S_- = \\hat S_x -i\\hat S_y$) and store the results in the `magnetizations` array."
   ]
  },
  {
   "cell_type": "code",
   "execution_count": null,
   "metadata": {},
   "outputs": [],
   "source": [
    "# Define the measurement operator for the simulation.\n",
    "measurement_str = 'I(-,0) + I(-,1) + I(-,2) + I(-,3) + I(-,4)'\n",
    "\n",
    "# Perform the time evolution of the spin system with a progress bar.\n",
    "for step in tqdm(range(npoints), desc=\"Simulating Time Evolution\"):\n",
    "    \n",
    "    # Perform the quadrature detection of the transverse magnetization.\n",
    "    magnetizations[step] = measure(basis, spins, rho, measurement_str)\n",
    "\n",
    "    # Propagate the state vector to the next time step.\n",
    "    rho = P @ rho"
   ]
  },
  {
   "cell_type": "markdown",
   "metadata": {},
   "source": [
    "### Perform the Fourier Transform to Obtain the Spectrum\n",
    "\n",
    "- **Fourier Transform**: We then take the Fourier transform of the magnetization data to get the NMR spectrum.\n",
    "- **Consider the Rotating Frame Frequency**: The detection was performed in a rotating frame that involved the high-frequency component arising from bare-nucleus Zeeman interaction and the user-specified center frequency. The rotating frame frequency is added back to the detected frequencies.\n",
    "- **Frequency to Chemical Shift Conversion**: The frequency axis is converted to chemical shifts in ppm for better interpretability of the spectrum."
   ]
  },
  {
   "cell_type": "code",
   "execution_count": null,
   "metadata": {},
   "outputs": [],
   "source": [
    "# Compute the real part of the spectrum.\n",
    "freqs, spec = spectrum(magnetizations, dwell_time)\n",
    "\n",
    "# Calculate rotating frame frequency\n",
    "center_freq = -y1H * B0 / (2 * np.pi) * (1 + center_1H * 1e-6)\n",
    "\n",
    "# Add back the rotating frame frequency\n",
    "freqs = freqs + center_freq\n",
    "\n",
    "# Set the spectrometer frequency to the Larmor frequency of protons.\n",
    "freq_spectrometer = -y1H * B0 / (2 * np.pi)\n",
    "\n",
    "# Convert frequencies to chemical shifts\n",
    "chemical_shifts = frequency_to_chemical_shift(freqs, freq_spectrometer, freq_spectrometer)"
   ]
  },
  {
   "cell_type": "markdown",
   "metadata": {},
   "source": [
    "### Plot the Results\n",
    "\n",
    "Congratulations! The simulation is complete. We will then plot the results."
   ]
  },
  {
   "cell_type": "code",
   "execution_count": null,
   "metadata": {},
   "outputs": [],
   "source": [
    "# Plot the magnetization over time\n",
    "t_axis = np.arange(0, npoints) * dwell_time\n",
    "plt.figure(figsize=(8, 4))\n",
    "plt.plot(t_axis, np.real(magnetizations), color='blue')\n",
    "plt.title('Transverse Magnetization')\n",
    "plt.xlabel('Time (s)')\n",
    "plt.ylabel('Magnetization')\n",
    "plt.grid()\n",
    "plt.xlim(0, npoints*dwell_time)\n",
    "plt.tight_layout()\n",
    "plt.show()"
   ]
  },
  {
   "cell_type": "code",
   "execution_count": null,
   "metadata": {},
   "outputs": [],
   "source": [
    "# Create a figure with subplots\n",
    "fig, axes = plt.subplots(4, 1, figsize=(10, 16), gridspec_kw={'height_ratios': [1, 1, 1, 1]})\n",
    "\n",
    "# Plot the full spectrum on the top\n",
    "axes[0].plot(chemical_shifts, spec, color='blue')\n",
    "axes[0].set_title('Full Spectrum')\n",
    "axes[0].set_xlabel('Chemical Shift (ppm)')\n",
    "axes[0].set_ylabel('Intensity')\n",
    "axes[0].grid()\n",
    "axes[0].set_xlim(8.8, 7.2)\n",
    "\n",
    "# Plot the zoomed-in spectrum (left) in the second subplot\n",
    "axes[1].plot(chemical_shifts, spec, color='blue')\n",
    "axes[1].set_title('Spectrum (Zoomed In - Left)')\n",
    "axes[1].set_xlabel('Chemical Shift (ppm)')\n",
    "axes[1].set_ylabel('Intensity')\n",
    "axes[1].grid()\n",
    "axes[1].set_xlim(7.49, 7.45)\n",
    "\n",
    "# Plot the zoomed-in spectrum (middle) in the third subplot\n",
    "axes[2].plot(chemical_shifts, spec, color='blue')\n",
    "axes[2].set_title('Spectrum (Zoomed In - Middle)')\n",
    "axes[2].set_xlabel('Chemical Shift (ppm)')\n",
    "axes[2].set_ylabel('Intensity')\n",
    "axes[2].grid()\n",
    "axes[2].set_xlim(7.91, 7.85)\n",
    "\n",
    "# Plot the zoomed-in spectrum (right) at the bottom\n",
    "axes[3].plot(chemical_shifts, spec, color='blue')\n",
    "axes[3].set_title('Spectrum (Zoomed In - Right)')\n",
    "axes[3].set_xlabel('Chemical Shift (ppm)')\n",
    "axes[3].set_ylabel('Intensity')\n",
    "axes[3].grid()\n",
    "axes[3].set_xlim(8.57, 8.55)\n",
    "\n",
    "# Adjust layout for better spacing\n",
    "plt.tight_layout()\n",
    "plt.show()"
   ]
  }
 ],
 "metadata": {
  "kernelspec": {
   "display_name": "dev_environment",
   "language": "python",
   "name": "python3"
  },
  "language_info": {
   "codemirror_mode": {
    "name": "ipython",
    "version": 3
   },
   "file_extension": ".py",
   "mimetype": "text/x-python",
   "name": "python",
   "nbconvert_exporter": "python",
   "pygments_lexer": "ipython3",
   "version": "3.11.9"
  }
 },
 "nbformat": 4,
 "nbformat_minor": 2
}

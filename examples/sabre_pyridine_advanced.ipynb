{
 "cells": [
  {
   "cell_type": "markdown",
   "metadata": {},
   "source": [
    "## Signal Amplification by Reversible Exchange (SABRE) - Pyridine\n",
    "\n",
    "This example builds upon the `sabre_pyridine_simple.ipynb` by providing a more advanced demonstration of SABRE simulations. This example incorporates the relaxation and chemical exchange to the simulation. Key details of the simulation are as follows:\n",
    "\n",
    "- **Spin System**: The system consists of three parts:\n",
    "    - SABRE Complex: Two hydride protons and one equatorial pyridine ligand (all NMR-active nuclei included).\n",
    "    - Free Ligand: Pyridine molecules in the solution (all NMR-active nuclei included).\n",
    "    - Parahydrogen\n",
    "- **Simplifications**: The basis set is truncated to include spin orders up to 4.\n",
    "- **Simulation Conditions**: The simulation is performed near the energy level anticrossing field, leading to coherent oscillations between quantum states. This should result in close to optimal polarization transfer.\n",
    "- **Performance**: The example runs in approximately 15 minutes on a laptop with an 11th-generation i5 processor and 16 GB ram."
   ]
  },
  {
   "cell_type": "markdown",
   "metadata": {},
   "source": [
    "### Imports\n",
    "\n",
    "- **NumPy**: Used for creating and manipulating arrays.\n",
    "- **Matplotlib**: Used for plotting data and visualizing results.\n",
    "- **Spinguin**: Provides the core functionality for simulating spin systems, including Hamiltonian and relaxation superoperator calculations, propagators, and measurements."
   ]
  },
  {
   "cell_type": "code",
   "execution_count": null,
   "metadata": {},
   "outputs": [],
   "source": [
    "# Import necessary libraries\n",
    "import numpy as np\n",
    "import matplotlib.pyplot as plt\n",
    "import spinguin as sg"
   ]
  },
  {
   "cell_type": "markdown",
   "metadata": {},
   "source": [
    "### Simulation Parameters\n",
    "\n",
    "The following simulation parameters are defined:\n",
    "\n",
    "- **Magnetic Field (T)**: This is a global parameter in the Spinguin package. It is set to 5.3 mT.\n",
    "- **Temperature (K)**: This is also a global parameter in the Spinguin pacakge. It is set to 295 K (room temperature).\n",
    "- **Time Step (s)**: Set to 2 ms.\n",
    "- **Number of Time Steps**: Set to 30 000, resulting in a total simulation time of 60 seconds."
   ]
  },
  {
   "cell_type": "code",
   "execution_count": null,
   "metadata": {},
   "outputs": [],
   "source": [
    "# Define global simulation parameters\n",
    "sg.parameters.magnetic_field = 5.3e-3\n",
    "sg.parameters.temperature = 295\n",
    "\n",
    "# Define the evolution parameters\n",
    "dt = 2e-3\n",
    "N_steps = 30000"
   ]
  },
  {
   "cell_type": "markdown",
   "metadata": {},
   "source": [
    "### Define the Spin Systems\n",
    "\n",
    "In this example, we define three spin systems:\n",
    "- **SABRE Complex**: Hydride protons and all NMR-active nuclei of one equatorial pyridine ligand.\n",
    "- **Free Ligand**: Pyridine molecules in solution.\n",
    "- **Parahydrogen**\n",
    "\n",
    "For each of the spin systems, the following is set:\n",
    "- **Spin System**: First, the spin system is initialized by defining the isotopes.\n",
    "- **Maximum Spin Order**: The simulations are performed in Liouville space using the spherical tensor basis set. The full basis set scales as $4^n$ with the number of spins $n$, making the use of the full basis set impractical for large systems. Hence, the basis set is truncated to include spin orders up to 4 for the SABRE complex and the free pyridine ligand. For parahydrogen, no approximation is used.\n",
    "- **Build the Basis Set**: Finally, the basis set is built using the `build()` method."
   ]
  },
  {
   "cell_type": "code",
   "execution_count": null,
   "metadata": {},
   "outputs": [],
   "source": [
    "# Spin system and basis set for the complex\n",
    "spin_system_c = sg.SpinSystem(['1H', '1H', '1H', '1H', '1H', '1H', '1H', '14N'])\n",
    "spin_system_c.basis.max_spin_order = 4\n",
    "spin_system_c.basis.build()\n",
    "\n",
    "# Spin system and basis set for the free ligand\n",
    "spin_system_s = sg.SpinSystem(['1H', '1H', '1H', '1H', '1H', '14N'])\n",
    "spin_system_s.basis.max_spin_order = 4\n",
    "spin_system_s.basis.build()\n",
    "\n",
    "# Spin system and basis set for the parahydrogen\n",
    "spin_system_H2 = sg.SpinSystem(['1H', '1H'])\n",
    "spin_system_H2.basis.max_spin_order = 2\n",
    "spin_system_H2.basis.build()"
   ]
  },
  {
   "cell_type": "markdown",
   "metadata": {},
   "source": [
    "### Define the NMR Interactions\n",
    "\n",
    "This simulation incorporates both the coherent and incoherent NMR interactions.\n",
    "\n",
    "Coherent interactions:\n",
    "- **Zeeman Interaction**\n",
    "- **Isotropic Chemical Shift**\n",
    "- **Scalar J-Coupling**\n",
    "\n",
    "Incoherent interactions:\n",
    "- **Dipolar Coupling**\n",
    "- **Anisotropic Chemical Shift**\n",
    "- **Quadrupolar Coupling**\n",
    "- **Scalar Relaxation of the Second Kind (SR2K)**\n",
    "\n",
    "Simulation of these interactions involves the definition of the following spin system properties:\n",
    "\n",
    "- **Chemical Shifts**: Specified in parts per million (ppm).\n",
    "- **Scalar Couplings**: Specified in Hertz (Hz).\n",
    "- **Molecular Coordinates**: Specified in Ångström (Å).\n",
    "- **Shielding Tensors** Specified in parts per million (ppm).\n",
    "- **Electric Field Gradient Tensors**: Specified in atomic units (a.u.).\n",
    "\n",
    "These properties are set as attributes to the previously created `SpinSystem` object. Note that NMR interactions are not defined for the parahydrogen. This is because, in the experiments, fresh parahydrogen is constantly pushed to the system."
   ]
  },
  {
   "cell_type": "code",
   "execution_count": null,
   "metadata": {},
   "outputs": [],
   "source": [
    "# Define the NMR interactions for SABRE complex\n",
    "spin_system_c.chemical_shifts = [-22.7, -22.7, 8.34, 8.34, 7.12, 7.12, 7.77, 43.60]\n",
    "spin_system_c.J_couplings = [\n",
    "    [ 0,     0,      0,      0,      0,      0,      0,     0],\n",
    "    [-6.53,  0,      0,      0,      0,      0,      0,     0],\n",
    "    [ 0.00,  1.66,   0,      0,      0,      0,      0,     0],\n",
    "    [ 1.40,  0.00,  -0.06,   0,      0,      0,      0,     0],\t\t\t\t\t\n",
    "    [-0.09,\t 0.35,\t 6.03,\t 0.14,\t 0,      0,      0,     0],\t\t\t\t\t\n",
    "    [ 0.38, -0.13,\t 0.09,\t 5.93,\t 0.06, \t 0,      0,     0],\t\t\t\n",
    "    [ 0.01,\t 0.03,\t 1.12,\t-0.02,\t 7.75,  -0.01, \t 0,     0],\n",
    "    [-0.30,  15.91,  4.47,   0.04,   1.79,   0,     -0.46,  0]\n",
    "]\n",
    "spin_system_c.xyz = [\n",
    "    [ 0.9649170,  1.2271534, -1.2031835],\n",
    "    [ 1.9547078, -0.4342818, -0.1922623],\n",
    "    [-2.5492743, -0.9988969, -0.2721286],\n",
    "    [-1.3895773, -2.6746310, -1.2331514],\n",
    "    [-4.5704762, -1.0068808, -1.6740361],\n",
    "    [-1.5724294, -5.0099155, -0.4837575],\n",
    "    [-4.5894708,  0.3577455, -3.7835019],\n",
    "    [-1.4702745,  0.2327446, -1.5095832]\n",
    "]\n",
    "shielding_c = np.zeros((8, 3, 3))\n",
    "shielding_c[7] = np.array([\n",
    "    [-134.70, -123.93, -49.86],\n",
    "    [-147.79,  64.47,   221.96],\n",
    "    [-62.63,   223.57, -60.57]\n",
    "])\n",
    "spin_system_c.shielding = shielding_c\n",
    "efg_c = np.zeros((8, 3, 3))\n",
    "efg_c[7] = np.array([\n",
    "    [-0.3426, -0.0417, -0.4514],\n",
    "    [-0.0417,  0.3727,  0.1186],\n",
    "    [-0.4514,  0.1186, -0.0301]\n",
    "])\n",
    "spin_system_c.efg = efg_c\n",
    "\n",
    "# Define NMR interactions for the free ligand\n",
    "spin_system_s.chemical_shifts = [8.56, 8.56, 7.47, 7.47, 7.88, 95.94]\n",
    "spin_system_s.J_couplings = [\n",
    "    [ 0,     0,      0,      0,      0,      0],\n",
    "    [-1.04,  0,      0,      0,      0,      0],\n",
    "    [ 4.85,  1.05,   0,      0,      0,      0],\n",
    "    [ 1.05,  4.85,   0.71,   0,      0,      0],\n",
    "    [ 1.24,  1.24,   7.55,   7.55,   0,      0],\n",
    "    [ 8.16,  8.16,   0.87,   0.87,  -0.19,   0]\n",
    "]\n",
    "spin_system_s.xyz = [\n",
    "    [ 2.0495335, 0.0000000, -1.4916842],\n",
    "    [-2.0495335, 0.0000000, -1.4916842],\n",
    "    [ 2.1458878, 0.0000000,  0.9846086],\n",
    "    [-2.1458878, 0.0000000,  0.9846086],\n",
    "    [ 0.0000000, 0.0000000,  2.2681296],\n",
    "    [ 0.0000000, 0.0000000, -1.5987077]\n",
    "]\n",
    "shielding_s = np.zeros((6, 3, 3))\n",
    "shielding_s[5] = np.array([\n",
    "    [-406.20, 0.00,   0.00],\n",
    "    [ 0.00,   299.44, 0.00],\n",
    "    [ 0.00,   0.00,  -181.07]\n",
    "])\n",
    "spin_system_s.shielding = shielding_s\n",
    "efg_s = np.zeros((6, 3, 3)) \n",
    "efg_s[5] = np.array([\n",
    "    [0.3069, 0.0000,  0.0000],\n",
    "    [0.0000, 0.7969,  0.0000],\n",
    "    [0.0000, 0.0000, -1.1037]\n",
    "])\n",
    "spin_system_s.efg = efg_s"
   ]
  },
  {
   "cell_type": "markdown",
   "metadata": {},
   "source": [
    "## Define the Relaxation Properties\n",
    "\n",
    "Simulation of Redfield theory requires the definition of the following properties for relaxation:\n",
    "- **Relaxation Theory**: Set to `\"redfield\"`.\n",
    "- **Rotational Correlation Time (ps)**: Characteristic time for the molecular tumbling.\n",
    "- **Scalar Relaxation of the Second Kind (SR2K)**: Processing the SR2K is enabled.\n",
    "- **Thermalization**: Thermalization of the relaxation superoperator using Levitt-di Bari method is enabled.\n",
    "\n",
    "These properties are set under the relaxation attribute of each of the spin systems."
   ]
  },
  {
   "cell_type": "code",
   "execution_count": null,
   "metadata": {},
   "outputs": [],
   "source": [
    "# Define the relaxation properties for the SABRE complex\n",
    "spin_system_c.relaxation.theory = \"redfield\"\n",
    "spin_system_c.relaxation.tau_c = 43e-12\n",
    "spin_system_c.relaxation.sr2k = True\n",
    "spin_system_c.relaxation.thermalization = True\n",
    "\n",
    "# Define the relaxation properties for the free ligand\n",
    "spin_system_s.relaxation.theory = \"redfield\"\n",
    "spin_system_s.relaxation.tau_c = 5.7e-12\n",
    "spin_system_s.relaxation.sr2k = True\n",
    "spin_system_s.relaxation.thermalization = True"
   ]
  },
  {
   "cell_type": "markdown",
   "metadata": {},
   "source": [
    "## Define the Chemical Exchange Properties\n",
    "\n",
    "Simulation of the chemical exchange in SABRE involves the following processes:\n",
    "- **Dissociation of the Complex**: The SABRE-complex dissociates into free hydrogen gas and pyridine molecule.\n",
    "- **Formation of the Complex**: Two possible association reactions may take place:\n",
    "    - Association of old $\\mathrm{H}_2$ and substrate\n",
    "    - Association of new $\\mathrm{H}_2$ (parahydrogen) and substrate\n",
    "\n",
    "To simulate these processes, the following has to be defined:\n",
    "- **Dissociation Rates (1/s)**: The rates that describe how often a substrate or hydrogen molecule dissociates.\n",
    "- **Concentrations (mol/l)**: Concentrations of the SABRE-complex and free ligand in the solution.\n",
    "- **Spin Maps**: Specifies how the association / dissociation is indexed. The hydride protons are at indices `[0, 1]` and the pyridine molecule at indices `[2, 3, 4, 5, 6, 7]`.\n",
    "- **Permutation Map**: When the pyridine molecule is bound to the complex, the nuclei in the pyridine molecule are not symmetric. However, this is not true after dissociation - the two ortho protons and meta protons are both chemically and magnetically equivalent. This is taken into account using a permutation map."
   ]
  },
  {
   "cell_type": "code",
   "execution_count": null,
   "metadata": {},
   "outputs": [],
   "source": [
    "# Define the dissociation rates\n",
    "k_H2 = 1.6\n",
    "k_s = 10\n",
    "\n",
    "# Define the concentrations\n",
    "c_c = 0.0005\n",
    "c_s = 0.0135\n",
    "\n",
    "# Define the spin maps\n",
    "spin_map_s = [2, 3, 4, 5, 6, 7]\n",
    "spin_map_H2 = [0, 1]\n",
    "\n",
    "# Define the permutation map for pyridine\n",
    "perm_map = [1, 0, 3, 2, 4, 5]"
   ]
  },
  {
   "cell_type": "markdown",
   "metadata": {},
   "source": [
    "## Assemble the total Liouvillians\n",
    "\n",
    "The following steps are performed in this section:\n",
    "\n",
    "- **Hamiltonian**: The Hamiltonian is calculated for the defined spin systems.\n",
    "- **Relaxation**: The relaxation superoperator is calculated for the defined spin systems.\n",
    "- **Liouvillian**: In the Spinguin package, the Liouvillian is defined as $L = -iH - R + K$. We use the inbuilt function to calculate the Liouvillian using the correct definition. Note that $K$ is not given, as the chemical exchange in SABRE is non-linear. Therefore, the exchange has to be performed manually during each time step."
   ]
  },
  {
   "cell_type": "code",
   "execution_count": null,
   "metadata": {},
   "outputs": [],
   "source": [
    "# Calculate the Hamiltonians\n",
    "H_c = sg.hamiltonian(spin_system_c)\n",
    "H_s = sg.hamiltonian(spin_system_s)\n",
    "\n",
    "# Calculate the relaxation superoperators\n",
    "R_c = sg.relaxation(spin_system_c)\n",
    "R_s = sg.relaxation(spin_system_s)\n",
    "\n",
    "# Calculate the Liouvillians\n",
    "L_c = sg.liouvillian(H_c, R_c)\n",
    "L_s = sg.liouvillian(H_s, R_s)"
   ]
  },
  {
   "cell_type": "markdown",
   "metadata": {},
   "source": [
    "## Move to Zero-Quantum Subspace\n",
    "\n",
    "The initial state in the SABRE simulations involves only product operators that lie in the zero-quantum subspace. In addition, the defined Liouvillian does not mix the zero-quantum subspace with the other coherence orders. Therefore, the basis set can be truncated to involve only the zero-quantum terms. This involves:\n",
    "- **Truncating the Basis Set**: Product operators whose coherence order is not equal to zero are removed from the basis set.\n",
    "- **Transforming the Liouvillian**: The Liouvillian, which was previously generated, has to be transformed into the new truncated basis set.\n",
    "\n",
    "These two steps are performed simultaneously by calling the `truncate_by_coherence()` method from the basis set."
   ]
  },
  {
   "cell_type": "code",
   "execution_count": null,
   "metadata": {},
   "outputs": [],
   "source": [
    "# Truncate the basis set and transform the Liouvillian\n",
    "L_c = spin_system_c.basis.truncate_by_coherence([0], L_c)\n",
    "L_s = spin_system_s.basis.truncate_by_coherence([0], L_s)"
   ]
  },
  {
   "cell_type": "markdown",
   "metadata": {},
   "source": [
    "## Calculate the Time Propagators\n",
    "\n",
    "Now, when the basis set has been truncated, it is computationally less expensive to compute the time propagator. Next, we compute that using the truncated Liouvillian and the previously defined time step."
   ]
  },
  {
   "cell_type": "code",
   "execution_count": null,
   "metadata": {},
   "outputs": [],
   "source": [
    "# Calculate the time propagators\n",
    "P_c = sg.propagator(L_c, dt)\n",
    "P_s = sg.propagator(L_s, dt)"
   ]
  },
  {
   "cell_type": "markdown",
   "metadata": {},
   "source": [
    "### Assign the Initial States\n",
    "\n",
    "Thermal equilibrium is assigned for the SABRE-complex and the free ligand. Parahydrogen is created by assigning a singlet state."
   ]
  },
  {
   "cell_type": "code",
   "execution_count": null,
   "metadata": {},
   "outputs": [],
   "source": [
    "# Make the initial states\n",
    "rho_c = sg.equilibrium_state(spin_system_c)\n",
    "rho_s = sg.equilibrium_state(spin_system_s)\n",
    "rho_H2 = sg.singlet_state(spin_system_H2, 0, 1)"
   ]
  },
  {
   "cell_type": "markdown",
   "metadata": {},
   "source": [
    "### Create an Empty Array for Storing Magnetizations\n",
    "\n",
    "To store the magnetizations during the simulation, we need to create an empty array. In this simulation, we store the magnetizations only from the free ligand.\n",
    "\n",
    "- The simulation involves 30 000 time steps.\n",
    "- After each time step, the magnetization of each spin will be calculated.\n",
    "- The array will store the magnetizations for all spins at each time step."
   ]
  },
  {
   "cell_type": "code",
   "execution_count": null,
   "metadata": {},
   "outputs": [],
   "source": [
    "# Create an empty array to store magnetizations\n",
    "magnetizations = np.empty((spin_system_s.nspins, N_steps), dtype=complex)"
   ]
  },
  {
   "cell_type": "markdown",
   "metadata": {},
   "source": [
    "### Perform the Time Evolution\n",
    "\n",
    "- Loop over the defined number of time steps.\n",
    "- Calculate the magnetization for each spin at each time step.\n",
    "- Save the calculated magnetizations to the previously created array for later analysis.\n",
    "- Perform the chemical exchange.\n",
    "- Propagate the spin systems forward in time during each step using the time propagator."
   ]
  },
  {
   "cell_type": "code",
   "execution_count": null,
   "metadata": {},
   "outputs": [],
   "source": [
    "# Evolve the system for the specified number of steps\n",
    "for step in range(N_steps):\n",
    "\n",
    "    # Measure the magnetization for each spin\n",
    "    for spin in range(spin_system_s.nspins):\n",
    "        magnetizations[spin, step] = sg.measure(spin_system_s, rho_s, f'I(z, {spin})')\n",
    "\n",
    "    # Dissociation of substrate\n",
    "    rho_H2_old, rho_s_old = sg.dissociate(spin_system_H2, spin_system_s, spin_system_c, rho_c, spin_map_H2, spin_map_s)\n",
    "\n",
    "    # Calculate the complex where only the substrate is exchanged\n",
    "    rho_c_new_s_old_H2 = sg.associate(spin_system_H2, spin_system_s, spin_system_c, rho_H2_old, rho_s, spin_map_H2, spin_map_s)\n",
    "\n",
    "    # Calculate the complex where both the substrate and H2 are exchanged\n",
    "    rho_c_new_s_new_H2 = sg.associate(spin_system_H2, spin_system_s, spin_system_c, rho_H2, rho_s, spin_map_H2, spin_map_s)\n",
    "\n",
    "    # Account for the symmetry of pyridine\n",
    "    rho_s_old = (rho_s_old + sg.permute_spins(spin_system_s, rho_s_old, perm_map)) / 2\n",
    "\n",
    "    # Exchange process for free substrate\n",
    "    rho_s = rho_s + c_c / c_s * dt * k_s * (rho_s_old - rho_s)\n",
    "\n",
    "    # Exchange process for the complex\n",
    "    rho_c = rho_c + dt * (\n",
    "        (k_s - k_H2) * (rho_c_new_s_old_H2 - rho_c) +\n",
    "        k_H2 * (rho_c_new_s_new_H2 - rho_c)\n",
    "    )\n",
    "\n",
    "    # Propagate the system forward in time\n",
    "    rho_c = P_c @ rho_c\n",
    "    rho_s = P_s @ rho_s"
   ]
  },
  {
   "cell_type": "markdown",
   "metadata": {},
   "source": [
    "### Plot the Magnetizations and Visualize the Results\n",
    "\n",
    "- Calculate the time axis for the simulation.\n",
    "- Plot the magnetizations of each spin as a function of time.\n",
    "- Observe that, in contrast to the simple SABRE example, coherent oscillation is no longer seen. Instead, we find a nearly single-exponential build-up of the polarization of the substrate protons. In addition, we find that the quadrupolar nitrogen-14 is not becoming hyperpolarized."
   ]
  },
  {
   "cell_type": "code",
   "execution_count": null,
   "metadata": {},
   "outputs": [],
   "source": [
    "# Create a time axis for the simulation\n",
    "t = sg.time_axis(N_steps, dt)\n",
    "\n",
    "# Plot the magnetizations for each spin as a function of time\n",
    "for spin in range(spin_system_s.nspins):\n",
    "    plt.plot(t, np.real(magnetizations[spin]), label=f\"Spin {spin+1}\")\n",
    "\n",
    "# Add a legend to identify each spin\n",
    "plt.legend(loc=\"upper right\")\n",
    "\n",
    "# Add labels and title to the plot for clarity\n",
    "plt.xlabel(\"Time (s)\")\n",
    "plt.ylabel(\"Magnetization\")\n",
    "plt.title(\"SABRE-Hyperpolarization of Pyridine\")\n",
    "\n",
    "# Adjust layout to prevent overlapping elements and display the plot\n",
    "plt.tight_layout()\n",
    "plt.show()\n",
    "\n",
    "# Clear the figure to avoid overlapping plots in subsequent cells\n",
    "plt.clf()"
   ]
  }
 ],
 "metadata": {
  "kernelspec": {
   "display_name": "dev_environment",
   "language": "python",
   "name": "python3"
  },
  "language_info": {
   "codemirror_mode": {
    "name": "ipython",
    "version": 3
   },
   "file_extension": ".py",
   "mimetype": "text/x-python",
   "name": "python",
   "nbconvert_exporter": "python",
   "pygments_lexer": "ipython3",
   "version": "3.11.9"
  }
 },
 "nbformat": 4,
 "nbformat_minor": 2
}
